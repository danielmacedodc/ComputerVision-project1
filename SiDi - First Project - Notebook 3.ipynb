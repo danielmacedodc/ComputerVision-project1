{
  "nbformat": 4,
  "nbformat_minor": 0,
  "metadata": {
    "colab": {
      "name": "SiDi - First Project -  Notebook 3 .ipynb",
      "provenance": []
    },
    "kernelspec": {
      "name": "python3",
      "display_name": "Python 3"
    },
    "language_info": {
      "name": "python"
    }
  },
  "cells": [
    {
      "cell_type": "markdown",
      "metadata": {
        "id": "VKKonpS3Oxcb"
      },
      "source": [
        "# **Inicio**\n",
        "\n",
        "Analise do dataset encontrado no Kaggle: https://www.kaggle.com/sulianova/cardiovascular-disease-dataset\n",
        "\n",
        "Artigos importantes: http://media-publisher.eu/wp-content/uploads/2021/01/5-6-2020.pdf\n",
        "\n",
        "\n",
        "--------------------------------------------------------------------\n",
        "\n",
        "Data description\n",
        "There are 3 types of input features:\n",
        "\n",
        "1. Objective: factual information;\n",
        "2. Examination: results of medical examination;\n",
        "3. Subjective: information given by the patient.\n",
        "\n",
        "Features:\n",
        "\n",
        "- Age | Objective Feature | age | int (days)\n",
        "\n",
        "- Height | Objective Feature | height | int (cm) |\n",
        "\n",
        "- Weight | Objective Feature | weight | float (kg) |\n",
        "\n",
        "- Gender | Objective Feature | gender | categorical code |\n",
        "\n",
        "- Systolic blood pressure | Examination Feature | ap_hi | int |\n",
        "\n",
        "- Diastolic blood pressure | Examination Feature | ap_lo | int |\n",
        "\n",
        "- Cholesterol | Examination Feature | cholesterol | 1: normal, 2: above normal, 3: well above normal |\n",
        "\n",
        "- Glucose | Examination Feature | gluc | 1: normal, 2: above normal, 3: well above normal |\n",
        "\n",
        "- Smoking | Subjective Feature | smoke | binary |\n",
        "\n",
        "- Alcohol intake | Subjective Feature | alco | binary |\n",
        "\n",
        "- Physical activity | Subjective Feature | active | binary |\n",
        "\n",
        "- Presence or absence of cardiovascular disease | Target Variable | cardio | binary |\n"
      ]
    },
    {
      "cell_type": "markdown",
      "metadata": {
        "id": "euaJQ5b1mO9h"
      },
      "source": [
        "# **1 - Importando as bibliotecas e o dataset**"
      ]
    },
    {
      "cell_type": "code",
      "metadata": {
        "id": "VRsGmp9ON6nO"
      },
      "source": [
        "import numpy as np\n",
        "import pandas as pd\n",
        "\n",
        "import matplotlib.pyplot as plt\n",
        "import seaborn as sns\n"
      ],
      "execution_count": 1,
      "outputs": []
    },
    {
      "cell_type": "code",
      "metadata": {
        "id": "8M6qC9TCmylM"
      },
      "source": [
        "#Lendo o arquivo \n",
        "base = pd.read_csv(\"/content/drive/MyDrive/Projeto 1 - Residência/cardio.csv\", sep=';')"
      ],
      "execution_count": 2,
      "outputs": []
    },
    {
      "cell_type": "code",
      "metadata": {
        "colab": {
          "base_uri": "https://localhost:8080/"
        },
        "id": "hFgurY9G_pIP",
        "outputId": "9e0127aa-a4c8-47ed-b1da-22b9ab8c03aa"
      },
      "source": [
        "base.shape"
      ],
      "execution_count": 3,
      "outputs": [
        {
          "output_type": "execute_result",
          "data": {
            "text/plain": [
              "(70000, 13)"
            ]
          },
          "metadata": {},
          "execution_count": 3
        }
      ]
    },
    {
      "cell_type": "code",
      "metadata": {
        "colab": {
          "base_uri": "https://localhost:8080/"
        },
        "id": "SFhQCSixQmXG",
        "outputId": "96602acf-0245-46bf-d6c3-aebedb67ce37"
      },
      "source": [
        "base.info()"
      ],
      "execution_count": 4,
      "outputs": [
        {
          "output_type": "stream",
          "name": "stdout",
          "text": [
            "<class 'pandas.core.frame.DataFrame'>\n",
            "RangeIndex: 70000 entries, 0 to 69999\n",
            "Data columns (total 13 columns):\n",
            " #   Column       Non-Null Count  Dtype  \n",
            "---  ------       --------------  -----  \n",
            " 0   id           70000 non-null  int64  \n",
            " 1   age          70000 non-null  int64  \n",
            " 2   gender       70000 non-null  int64  \n",
            " 3   height       70000 non-null  int64  \n",
            " 4   weight       70000 non-null  float64\n",
            " 5   ap_hi        70000 non-null  int64  \n",
            " 6   ap_lo        70000 non-null  int64  \n",
            " 7   cholesterol  70000 non-null  int64  \n",
            " 8   gluc         70000 non-null  int64  \n",
            " 9   smoke        70000 non-null  int64  \n",
            " 10  alco         70000 non-null  int64  \n",
            " 11  active       70000 non-null  int64  \n",
            " 12  cardio       70000 non-null  int64  \n",
            "dtypes: float64(1), int64(12)\n",
            "memory usage: 6.9 MB\n"
          ]
        }
      ]
    },
    {
      "cell_type": "code",
      "metadata": {
        "colab": {
          "base_uri": "https://localhost:8080/",
          "height": 203
        },
        "id": "At0zpLctWMZc",
        "outputId": "9fa47d32-9138-41ad-abfd-9a4661267632"
      },
      "source": [
        "base.head()"
      ],
      "execution_count": 5,
      "outputs": [
        {
          "output_type": "execute_result",
          "data": {
            "text/html": [
              "<div>\n",
              "<style scoped>\n",
              "    .dataframe tbody tr th:only-of-type {\n",
              "        vertical-align: middle;\n",
              "    }\n",
              "\n",
              "    .dataframe tbody tr th {\n",
              "        vertical-align: top;\n",
              "    }\n",
              "\n",
              "    .dataframe thead th {\n",
              "        text-align: right;\n",
              "    }\n",
              "</style>\n",
              "<table border=\"1\" class=\"dataframe\">\n",
              "  <thead>\n",
              "    <tr style=\"text-align: right;\">\n",
              "      <th></th>\n",
              "      <th>id</th>\n",
              "      <th>age</th>\n",
              "      <th>gender</th>\n",
              "      <th>height</th>\n",
              "      <th>weight</th>\n",
              "      <th>ap_hi</th>\n",
              "      <th>ap_lo</th>\n",
              "      <th>cholesterol</th>\n",
              "      <th>gluc</th>\n",
              "      <th>smoke</th>\n",
              "      <th>alco</th>\n",
              "      <th>active</th>\n",
              "      <th>cardio</th>\n",
              "    </tr>\n",
              "  </thead>\n",
              "  <tbody>\n",
              "    <tr>\n",
              "      <th>0</th>\n",
              "      <td>0</td>\n",
              "      <td>18393</td>\n",
              "      <td>2</td>\n",
              "      <td>168</td>\n",
              "      <td>62.0</td>\n",
              "      <td>110</td>\n",
              "      <td>80</td>\n",
              "      <td>1</td>\n",
              "      <td>1</td>\n",
              "      <td>0</td>\n",
              "      <td>0</td>\n",
              "      <td>1</td>\n",
              "      <td>0</td>\n",
              "    </tr>\n",
              "    <tr>\n",
              "      <th>1</th>\n",
              "      <td>1</td>\n",
              "      <td>20228</td>\n",
              "      <td>1</td>\n",
              "      <td>156</td>\n",
              "      <td>85.0</td>\n",
              "      <td>140</td>\n",
              "      <td>90</td>\n",
              "      <td>3</td>\n",
              "      <td>1</td>\n",
              "      <td>0</td>\n",
              "      <td>0</td>\n",
              "      <td>1</td>\n",
              "      <td>1</td>\n",
              "    </tr>\n",
              "    <tr>\n",
              "      <th>2</th>\n",
              "      <td>2</td>\n",
              "      <td>18857</td>\n",
              "      <td>1</td>\n",
              "      <td>165</td>\n",
              "      <td>64.0</td>\n",
              "      <td>130</td>\n",
              "      <td>70</td>\n",
              "      <td>3</td>\n",
              "      <td>1</td>\n",
              "      <td>0</td>\n",
              "      <td>0</td>\n",
              "      <td>0</td>\n",
              "      <td>1</td>\n",
              "    </tr>\n",
              "    <tr>\n",
              "      <th>3</th>\n",
              "      <td>3</td>\n",
              "      <td>17623</td>\n",
              "      <td>2</td>\n",
              "      <td>169</td>\n",
              "      <td>82.0</td>\n",
              "      <td>150</td>\n",
              "      <td>100</td>\n",
              "      <td>1</td>\n",
              "      <td>1</td>\n",
              "      <td>0</td>\n",
              "      <td>0</td>\n",
              "      <td>1</td>\n",
              "      <td>1</td>\n",
              "    </tr>\n",
              "    <tr>\n",
              "      <th>4</th>\n",
              "      <td>4</td>\n",
              "      <td>17474</td>\n",
              "      <td>1</td>\n",
              "      <td>156</td>\n",
              "      <td>56.0</td>\n",
              "      <td>100</td>\n",
              "      <td>60</td>\n",
              "      <td>1</td>\n",
              "      <td>1</td>\n",
              "      <td>0</td>\n",
              "      <td>0</td>\n",
              "      <td>0</td>\n",
              "      <td>0</td>\n",
              "    </tr>\n",
              "  </tbody>\n",
              "</table>\n",
              "</div>"
            ],
            "text/plain": [
              "   id    age  gender  height  weight  ...  gluc  smoke  alco  active  cardio\n",
              "0   0  18393       2     168    62.0  ...     1      0     0       1       0\n",
              "1   1  20228       1     156    85.0  ...     1      0     0       1       1\n",
              "2   2  18857       1     165    64.0  ...     1      0     0       0       1\n",
              "3   3  17623       2     169    82.0  ...     1      0     0       1       1\n",
              "4   4  17474       1     156    56.0  ...     1      0     0       0       0\n",
              "\n",
              "[5 rows x 13 columns]"
            ]
          },
          "metadata": {},
          "execution_count": 5
        }
      ]
    },
    {
      "cell_type": "code",
      "metadata": {
        "colab": {
          "base_uri": "https://localhost:8080/"
        },
        "id": "laDcmmvr_SOA",
        "outputId": "63b0d8d8-73da-4400-83e1-86b3cde908de"
      },
      "source": [
        "base.duplicated().value_counts()"
      ],
      "execution_count": 6,
      "outputs": [
        {
          "output_type": "execute_result",
          "data": {
            "text/plain": [
              "False    70000\n",
              "dtype: int64"
            ]
          },
          "metadata": {},
          "execution_count": 6
        }
      ]
    },
    {
      "cell_type": "markdown",
      "metadata": {
        "id": "Z2VIWQm9vVPk"
      },
      "source": [
        "# **2 - Pré-processamento**"
      ]
    },
    {
      "cell_type": "markdown",
      "metadata": {
        "id": "nKzL9XVVhwdV"
      },
      "source": [
        "No estudo realizado pela equipe, o que interessa são apenas as variáveis: idade, sexo, diabetes, colesterol e se teve doença cardiaca ou não. Essas são as caracteristicas em comum nos datasets utilizados. "
      ]
    },
    {
      "cell_type": "code",
      "metadata": {
        "id": "oidgkSwwVT39"
      },
      "source": [
        "base.drop(columns=['id', 'height', 'weight', 'ap_hi', 'ap_lo', 'smoke', 'alco', 'active'], inplace=True)"
      ],
      "execution_count": 7,
      "outputs": []
    },
    {
      "cell_type": "code",
      "metadata": {
        "colab": {
          "base_uri": "https://localhost:8080/"
        },
        "id": "JAc9tPBr_CZf",
        "outputId": "51646d4b-c178-4a7c-bbee-bfe469bf7843"
      },
      "source": [
        "print(base.isnull().sum())"
      ],
      "execution_count": 8,
      "outputs": [
        {
          "output_type": "stream",
          "name": "stdout",
          "text": [
            "age            0\n",
            "gender         0\n",
            "cholesterol    0\n",
            "gluc           0\n",
            "cardio         0\n",
            "dtype: int64\n"
          ]
        }
      ]
    },
    {
      "cell_type": "markdown",
      "metadata": {
        "id": "YZu-KNUV2brk"
      },
      "source": [
        "Não há dados nulos em nenhuma das colunas "
      ]
    },
    {
      "cell_type": "code",
      "metadata": {
        "colab": {
          "base_uri": "https://localhost:8080/"
        },
        "id": "YGYj3wpL2HI9",
        "outputId": "c39fd3be-2d90-4afa-b0a1-c3b95a81aa26"
      },
      "source": [
        "#verificando a simetria entre os dados\n",
        "base.skew()"
      ],
      "execution_count": 9,
      "outputs": [
        {
          "output_type": "execute_result",
          "data": {
            "text/plain": [
              "age           -0.307055\n",
              "gender         0.630960\n",
              "cholesterol    1.587123\n",
              "gluc           2.397462\n",
              "cardio         0.001200\n",
              "dtype: float64"
            ]
          },
          "metadata": {},
          "execution_count": 9
        }
      ]
    },
    {
      "cell_type": "markdown",
      "metadata": {
        "id": "OYNynbkviFSW"
      },
      "source": [
        "A idade está expressa em dias, vamos transformá-la em anos."
      ]
    },
    {
      "cell_type": "code",
      "metadata": {
        "id": "XxdLYliVg2fG"
      },
      "source": [
        "#transformando a idade em anos\n",
        "base['age'] = base['age'] // 365"
      ],
      "execution_count": 10,
      "outputs": []
    },
    {
      "cell_type": "markdown",
      "metadata": {
        "id": "gSNNmVR9jjyz"
      },
      "source": [
        "Além disso, substituiremos os valores da coluna gender de 1 - women e 2 - men para 0 - men e 1 - women"
      ]
    },
    {
      "cell_type": "code",
      "metadata": {
        "id": "O0hqpWskjjR1"
      },
      "source": [
        "base[\"gender\"] = base[\"gender\"].replace(2, 0)"
      ],
      "execution_count": 11,
      "outputs": []
    },
    {
      "cell_type": "code",
      "metadata": {
        "colab": {
          "base_uri": "https://localhost:8080/"
        },
        "id": "KjZv5twZCkgb",
        "outputId": "c19bf39c-defd-4f5b-aace-861dc7bf3b4d"
      },
      "source": [
        "base.info()"
      ],
      "execution_count": 12,
      "outputs": [
        {
          "output_type": "stream",
          "name": "stdout",
          "text": [
            "<class 'pandas.core.frame.DataFrame'>\n",
            "RangeIndex: 70000 entries, 0 to 69999\n",
            "Data columns (total 5 columns):\n",
            " #   Column       Non-Null Count  Dtype\n",
            "---  ------       --------------  -----\n",
            " 0   age          70000 non-null  int64\n",
            " 1   gender       70000 non-null  int64\n",
            " 2   cholesterol  70000 non-null  int64\n",
            " 3   gluc         70000 non-null  int64\n",
            " 4   cardio       70000 non-null  int64\n",
            "dtypes: int64(5)\n",
            "memory usage: 2.7 MB\n"
          ]
        }
      ]
    },
    {
      "cell_type": "code",
      "metadata": {
        "colab": {
          "base_uri": "https://localhost:8080/",
          "height": 203
        },
        "id": "J16beT1tlemA",
        "outputId": "a8e47d0d-365a-4587-fd96-4c2a9caf609d"
      },
      "source": [
        "base.head()"
      ],
      "execution_count": 13,
      "outputs": [
        {
          "output_type": "execute_result",
          "data": {
            "text/html": [
              "<div>\n",
              "<style scoped>\n",
              "    .dataframe tbody tr th:only-of-type {\n",
              "        vertical-align: middle;\n",
              "    }\n",
              "\n",
              "    .dataframe tbody tr th {\n",
              "        vertical-align: top;\n",
              "    }\n",
              "\n",
              "    .dataframe thead th {\n",
              "        text-align: right;\n",
              "    }\n",
              "</style>\n",
              "<table border=\"1\" class=\"dataframe\">\n",
              "  <thead>\n",
              "    <tr style=\"text-align: right;\">\n",
              "      <th></th>\n",
              "      <th>age</th>\n",
              "      <th>gender</th>\n",
              "      <th>cholesterol</th>\n",
              "      <th>gluc</th>\n",
              "      <th>cardio</th>\n",
              "    </tr>\n",
              "  </thead>\n",
              "  <tbody>\n",
              "    <tr>\n",
              "      <th>0</th>\n",
              "      <td>50</td>\n",
              "      <td>0</td>\n",
              "      <td>1</td>\n",
              "      <td>1</td>\n",
              "      <td>0</td>\n",
              "    </tr>\n",
              "    <tr>\n",
              "      <th>1</th>\n",
              "      <td>55</td>\n",
              "      <td>1</td>\n",
              "      <td>3</td>\n",
              "      <td>1</td>\n",
              "      <td>1</td>\n",
              "    </tr>\n",
              "    <tr>\n",
              "      <th>2</th>\n",
              "      <td>51</td>\n",
              "      <td>1</td>\n",
              "      <td>3</td>\n",
              "      <td>1</td>\n",
              "      <td>1</td>\n",
              "    </tr>\n",
              "    <tr>\n",
              "      <th>3</th>\n",
              "      <td>48</td>\n",
              "      <td>0</td>\n",
              "      <td>1</td>\n",
              "      <td>1</td>\n",
              "      <td>1</td>\n",
              "    </tr>\n",
              "    <tr>\n",
              "      <th>4</th>\n",
              "      <td>47</td>\n",
              "      <td>1</td>\n",
              "      <td>1</td>\n",
              "      <td>1</td>\n",
              "      <td>0</td>\n",
              "    </tr>\n",
              "  </tbody>\n",
              "</table>\n",
              "</div>"
            ],
            "text/plain": [
              "   age  gender  cholesterol  gluc  cardio\n",
              "0   50       0            1     1       0\n",
              "1   55       1            3     1       1\n",
              "2   51       1            3     1       1\n",
              "3   48       0            1     1       1\n",
              "4   47       1            1     1       0"
            ]
          },
          "metadata": {},
          "execution_count": 13
        }
      ]
    },
    {
      "cell_type": "code",
      "metadata": {
        "colab": {
          "base_uri": "https://localhost:8080/",
          "height": 295
        },
        "id": "sJze4NHBOToS",
        "outputId": "171a908f-f1c0-42d1-dcfc-4bf88bd377c2"
      },
      "source": [
        "base.describe().round(2)"
      ],
      "execution_count": 14,
      "outputs": [
        {
          "output_type": "execute_result",
          "data": {
            "text/html": [
              "<div>\n",
              "<style scoped>\n",
              "    .dataframe tbody tr th:only-of-type {\n",
              "        vertical-align: middle;\n",
              "    }\n",
              "\n",
              "    .dataframe tbody tr th {\n",
              "        vertical-align: top;\n",
              "    }\n",
              "\n",
              "    .dataframe thead th {\n",
              "        text-align: right;\n",
              "    }\n",
              "</style>\n",
              "<table border=\"1\" class=\"dataframe\">\n",
              "  <thead>\n",
              "    <tr style=\"text-align: right;\">\n",
              "      <th></th>\n",
              "      <th>age</th>\n",
              "      <th>gender</th>\n",
              "      <th>cholesterol</th>\n",
              "      <th>gluc</th>\n",
              "      <th>cardio</th>\n",
              "    </tr>\n",
              "  </thead>\n",
              "  <tbody>\n",
              "    <tr>\n",
              "      <th>count</th>\n",
              "      <td>70000.00</td>\n",
              "      <td>70000.00</td>\n",
              "      <td>70000.00</td>\n",
              "      <td>70000.00</td>\n",
              "      <td>70000.0</td>\n",
              "    </tr>\n",
              "    <tr>\n",
              "      <th>mean</th>\n",
              "      <td>52.84</td>\n",
              "      <td>0.65</td>\n",
              "      <td>1.37</td>\n",
              "      <td>1.23</td>\n",
              "      <td>0.5</td>\n",
              "    </tr>\n",
              "    <tr>\n",
              "      <th>std</th>\n",
              "      <td>6.77</td>\n",
              "      <td>0.48</td>\n",
              "      <td>0.68</td>\n",
              "      <td>0.57</td>\n",
              "      <td>0.5</td>\n",
              "    </tr>\n",
              "    <tr>\n",
              "      <th>min</th>\n",
              "      <td>29.00</td>\n",
              "      <td>0.00</td>\n",
              "      <td>1.00</td>\n",
              "      <td>1.00</td>\n",
              "      <td>0.0</td>\n",
              "    </tr>\n",
              "    <tr>\n",
              "      <th>25%</th>\n",
              "      <td>48.00</td>\n",
              "      <td>0.00</td>\n",
              "      <td>1.00</td>\n",
              "      <td>1.00</td>\n",
              "      <td>0.0</td>\n",
              "    </tr>\n",
              "    <tr>\n",
              "      <th>50%</th>\n",
              "      <td>53.00</td>\n",
              "      <td>1.00</td>\n",
              "      <td>1.00</td>\n",
              "      <td>1.00</td>\n",
              "      <td>0.0</td>\n",
              "    </tr>\n",
              "    <tr>\n",
              "      <th>75%</th>\n",
              "      <td>58.00</td>\n",
              "      <td>1.00</td>\n",
              "      <td>2.00</td>\n",
              "      <td>1.00</td>\n",
              "      <td>1.0</td>\n",
              "    </tr>\n",
              "    <tr>\n",
              "      <th>max</th>\n",
              "      <td>64.00</td>\n",
              "      <td>1.00</td>\n",
              "      <td>3.00</td>\n",
              "      <td>3.00</td>\n",
              "      <td>1.0</td>\n",
              "    </tr>\n",
              "  </tbody>\n",
              "</table>\n",
              "</div>"
            ],
            "text/plain": [
              "            age    gender  cholesterol      gluc   cardio\n",
              "count  70000.00  70000.00     70000.00  70000.00  70000.0\n",
              "mean      52.84      0.65         1.37      1.23      0.5\n",
              "std        6.77      0.48         0.68      0.57      0.5\n",
              "min       29.00      0.00         1.00      1.00      0.0\n",
              "25%       48.00      0.00         1.00      1.00      0.0\n",
              "50%       53.00      1.00         1.00      1.00      0.0\n",
              "75%       58.00      1.00         2.00      1.00      1.0\n",
              "max       64.00      1.00         3.00      3.00      1.0"
            ]
          },
          "metadata": {},
          "execution_count": 14
        }
      ]
    },
    {
      "cell_type": "code",
      "metadata": {
        "colab": {
          "base_uri": "https://localhost:8080/",
          "height": 743
        },
        "id": "CpfbzPbmPVnB",
        "outputId": "7ffbdf01-d305-4758-f200-d07aaa1176f3"
      },
      "source": [
        "# distribuição das variáveis\n",
        "sns.pairplot(base, hue='cardio')"
      ],
      "execution_count": 15,
      "outputs": [
        {
          "output_type": "execute_result",
          "data": {
            "text/plain": [
              "<seaborn.axisgrid.PairGrid at 0x7f053b6922d0>"
            ]
          },
          "metadata": {},
          "execution_count": 15
        },
        {
          "output_type": "display_data",
          "data": {
            "image/png": "[encoded data removed]",
            "text/plain": [
              "<Figure size 762.375x720 with 20 Axes>"
            ]
          },
          "metadata": {
            "needs_background": "light"
          }
        }
      ]
    },
    {
      "cell_type": "code",
      "metadata": {
        "id": "KuSehjTrN-cz"
      },
      "source": [
        "#Discretizando a idade em Adultos e Idosos\n",
        "base['age_disct'] = pd.cut(base['age'], [29, 59, 65], labels=['Adulto','Idoso'])"
      ],
      "execution_count": 16,
      "outputs": []
    },
    {
      "cell_type": "markdown",
      "metadata": {
        "id": "Co1kS3MedLdc"
      },
      "source": [
        "As variáveis *gluc* e *cholesterol* apresentam 3 categorias. Vamos considerar as duas primeiras (valor 1 e 2) como não diabético e valor 3 como diabético. O mesmo para a coluna colesreol. Assim, as novas colunas: diabéitco e colestreol terão os valores 0 e 1.  "
      ]
    },
    {
      "cell_type": "code",
      "metadata": {
        "id": "ptXpwuvpUjhC"
      },
      "source": [
        "base['diabético'] = base['gluc'].apply(lambda x: 1 if x == 3 else 0)"
      ],
      "execution_count": 17,
      "outputs": []
    },
    {
      "cell_type": "code",
      "metadata": {
        "id": "q0sT3ojCVXsu"
      },
      "source": [
        "base.drop('gluc', axis=1, inplace=True)"
      ],
      "execution_count": 18,
      "outputs": []
    },
    {
      "cell_type": "code",
      "metadata": {
        "colab": {
          "base_uri": "https://localhost:8080/",
          "height": 357
        },
        "id": "FsxTlQ7sU-_N",
        "outputId": "0ce62d27-6fc8-4086-ea60-99a225ac96ac"
      },
      "source": [
        "base.head(10)"
      ],
      "execution_count": 19,
      "outputs": [
        {
          "output_type": "execute_result",
          "data": {
            "text/html": [
              "<div>\n",
              "<style scoped>\n",
              "    .dataframe tbody tr th:only-of-type {\n",
              "        vertical-align: middle;\n",
              "    }\n",
              "\n",
              "    .dataframe tbody tr th {\n",
              "        vertical-align: top;\n",
              "    }\n",
              "\n",
              "    .dataframe thead th {\n",
              "        text-align: right;\n",
              "    }\n",
              "</style>\n",
              "<table border=\"1\" class=\"dataframe\">\n",
              "  <thead>\n",
              "    <tr style=\"text-align: right;\">\n",
              "      <th></th>\n",
              "      <th>age</th>\n",
              "      <th>gender</th>\n",
              "      <th>cholesterol</th>\n",
              "      <th>cardio</th>\n",
              "      <th>age_disct</th>\n",
              "      <th>diabético</th>\n",
              "    </tr>\n",
              "  </thead>\n",
              "  <tbody>\n",
              "    <tr>\n",
              "      <th>0</th>\n",
              "      <td>50</td>\n",
              "      <td>0</td>\n",
              "      <td>1</td>\n",
              "      <td>0</td>\n",
              "      <td>Adulto</td>\n",
              "      <td>0</td>\n",
              "    </tr>\n",
              "    <tr>\n",
              "      <th>1</th>\n",
              "      <td>55</td>\n",
              "      <td>1</td>\n",
              "      <td>3</td>\n",
              "      <td>1</td>\n",
              "      <td>Adulto</td>\n",
              "      <td>0</td>\n",
              "    </tr>\n",
              "    <tr>\n",
              "      <th>2</th>\n",
              "      <td>51</td>\n",
              "      <td>1</td>\n",
              "      <td>3</td>\n",
              "      <td>1</td>\n",
              "      <td>Adulto</td>\n",
              "      <td>0</td>\n",
              "    </tr>\n",
              "    <tr>\n",
              "      <th>3</th>\n",
              "      <td>48</td>\n",
              "      <td>0</td>\n",
              "      <td>1</td>\n",
              "      <td>1</td>\n",
              "      <td>Adulto</td>\n",
              "      <td>0</td>\n",
              "    </tr>\n",
              "    <tr>\n",
              "      <th>4</th>\n",
              "      <td>47</td>\n",
              "      <td>1</td>\n",
              "      <td>1</td>\n",
              "      <td>0</td>\n",
              "      <td>Adulto</td>\n",
              "      <td>0</td>\n",
              "    </tr>\n",
              "    <tr>\n",
              "      <th>5</th>\n",
              "      <td>60</td>\n",
              "      <td>1</td>\n",
              "      <td>2</td>\n",
              "      <td>0</td>\n",
              "      <td>Idoso</td>\n",
              "      <td>0</td>\n",
              "    </tr>\n",
              "    <tr>\n",
              "      <th>6</th>\n",
              "      <td>60</td>\n",
              "      <td>1</td>\n",
              "      <td>3</td>\n",
              "      <td>0</td>\n",
              "      <td>Idoso</td>\n",
              "      <td>0</td>\n",
              "    </tr>\n",
              "    <tr>\n",
              "      <th>7</th>\n",
              "      <td>61</td>\n",
              "      <td>0</td>\n",
              "      <td>3</td>\n",
              "      <td>1</td>\n",
              "      <td>Idoso</td>\n",
              "      <td>1</td>\n",
              "    </tr>\n",
              "    <tr>\n",
              "      <th>8</th>\n",
              "      <td>48</td>\n",
              "      <td>1</td>\n",
              "      <td>1</td>\n",
              "      <td>0</td>\n",
              "      <td>Adulto</td>\n",
              "      <td>0</td>\n",
              "    </tr>\n",
              "    <tr>\n",
              "      <th>9</th>\n",
              "      <td>54</td>\n",
              "      <td>1</td>\n",
              "      <td>1</td>\n",
              "      <td>0</td>\n",
              "      <td>Adulto</td>\n",
              "      <td>0</td>\n",
              "    </tr>\n",
              "  </tbody>\n",
              "</table>\n",
              "</div>"
            ],
            "text/plain": [
              "   age  gender  cholesterol  cardio age_disct  diabético\n",
              "0   50       0            1       0    Adulto          0\n",
              "1   55       1            3       1    Adulto          0\n",
              "2   51       1            3       1    Adulto          0\n",
              "3   48       0            1       1    Adulto          0\n",
              "4   47       1            1       0    Adulto          0\n",
              "5   60       1            2       0     Idoso          0\n",
              "6   60       1            3       0     Idoso          0\n",
              "7   61       0            3       1     Idoso          1\n",
              "8   48       1            1       0    Adulto          0\n",
              "9   54       1            1       0    Adulto          0"
            ]
          },
          "metadata": {},
          "execution_count": 19
        }
      ]
    },
    {
      "cell_type": "code",
      "metadata": {
        "id": "gCYIPwDbVhwa"
      },
      "source": [
        "base['colesterol'] = base['cholesterol'].apply(lambda x: 1 if x == 3 else 0)"
      ],
      "execution_count": 20,
      "outputs": []
    },
    {
      "cell_type": "code",
      "metadata": {
        "id": "w9dHWcaeV2b9"
      },
      "source": [
        "base.drop('cholesterol', axis=1, inplace=True)"
      ],
      "execution_count": 21,
      "outputs": []
    },
    {
      "cell_type": "code",
      "metadata": {
        "colab": {
          "base_uri": "https://localhost:8080/",
          "height": 203
        },
        "id": "_8TaiqgrV6sX",
        "outputId": "4b5409ae-286e-4a85-9a34-288eadab079a"
      },
      "source": [
        "base.head()"
      ],
      "execution_count": 22,
      "outputs": [
        {
          "output_type": "execute_result",
          "data": {
            "text/html": [
              "<div>\n",
              "<style scoped>\n",
              "    .dataframe tbody tr th:only-of-type {\n",
              "        vertical-align: middle;\n",
              "    }\n",
              "\n",
              "    .dataframe tbody tr th {\n",
              "        vertical-align: top;\n",
              "    }\n",
              "\n",
              "    .dataframe thead th {\n",
              "        text-align: right;\n",
              "    }\n",
              "</style>\n",
              "<table border=\"1\" class=\"dataframe\">\n",
              "  <thead>\n",
              "    <tr style=\"text-align: right;\">\n",
              "      <th></th>\n",
              "      <th>age</th>\n",
              "      <th>gender</th>\n",
              "      <th>cardio</th>\n",
              "      <th>age_disct</th>\n",
              "      <th>diabético</th>\n",
              "      <th>colesterol</th>\n",
              "    </tr>\n",
              "  </thead>\n",
              "  <tbody>\n",
              "    <tr>\n",
              "      <th>0</th>\n",
              "      <td>50</td>\n",
              "      <td>0</td>\n",
              "      <td>0</td>\n",
              "      <td>Adulto</td>\n",
              "      <td>0</td>\n",
              "      <td>0</td>\n",
              "    </tr>\n",
              "    <tr>\n",
              "      <th>1</th>\n",
              "      <td>55</td>\n",
              "      <td>1</td>\n",
              "      <td>1</td>\n",
              "      <td>Adulto</td>\n",
              "      <td>0</td>\n",
              "      <td>1</td>\n",
              "    </tr>\n",
              "    <tr>\n",
              "      <th>2</th>\n",
              "      <td>51</td>\n",
              "      <td>1</td>\n",
              "      <td>1</td>\n",
              "      <td>Adulto</td>\n",
              "      <td>0</td>\n",
              "      <td>1</td>\n",
              "    </tr>\n",
              "    <tr>\n",
              "      <th>3</th>\n",
              "      <td>48</td>\n",
              "      <td>0</td>\n",
              "      <td>1</td>\n",
              "      <td>Adulto</td>\n",
              "      <td>0</td>\n",
              "      <td>0</td>\n",
              "    </tr>\n",
              "    <tr>\n",
              "      <th>4</th>\n",
              "      <td>47</td>\n",
              "      <td>1</td>\n",
              "      <td>0</td>\n",
              "      <td>Adulto</td>\n",
              "      <td>0</td>\n",
              "      <td>0</td>\n",
              "    </tr>\n",
              "  </tbody>\n",
              "</table>\n",
              "</div>"
            ],
            "text/plain": [
              "   age  gender  cardio age_disct  diabético  colesterol\n",
              "0   50       0       0    Adulto          0           0\n",
              "1   55       1       1    Adulto          0           1\n",
              "2   51       1       1    Adulto          0           1\n",
              "3   48       0       1    Adulto          0           0\n",
              "4   47       1       0    Adulto          0           0"
            ]
          },
          "metadata": {},
          "execution_count": 22
        }
      ]
    },
    {
      "cell_type": "code",
      "metadata": {
        "colab": {
          "base_uri": "https://localhost:8080/",
          "height": 203
        },
        "id": "i4ZcQIj6D50X",
        "outputId": "95b57c8a-c371-4144-9f24-ffd97e9d66e7"
      },
      "source": [
        "dummy_variable_sex = pd.get_dummies(base['gender'])\n",
        "dummy_variable_sex.rename(columns={0: 'homem', 1: 'mulher'}, inplace=True)\n",
        "dummy_variable_sex.head()"
      ],
      "execution_count": 23,
      "outputs": [
        {
          "output_type": "execute_result",
          "data": {
            "text/html": [
              "<div>\n",
              "<style scoped>\n",
              "    .dataframe tbody tr th:only-of-type {\n",
              "        vertical-align: middle;\n",
              "    }\n",
              "\n",
              "    .dataframe tbody tr th {\n",
              "        vertical-align: top;\n",
              "    }\n",
              "\n",
              "    .dataframe thead th {\n",
              "        text-align: right;\n",
              "    }\n",
              "</style>\n",
              "<table border=\"1\" class=\"dataframe\">\n",
              "  <thead>\n",
              "    <tr style=\"text-align: right;\">\n",
              "      <th></th>\n",
              "      <th>homem</th>\n",
              "      <th>mulher</th>\n",
              "    </tr>\n",
              "  </thead>\n",
              "  <tbody>\n",
              "    <tr>\n",
              "      <th>0</th>\n",
              "      <td>1</td>\n",
              "      <td>0</td>\n",
              "    </tr>\n",
              "    <tr>\n",
              "      <th>1</th>\n",
              "      <td>0</td>\n",
              "      <td>1</td>\n",
              "    </tr>\n",
              "    <tr>\n",
              "      <th>2</th>\n",
              "      <td>0</td>\n",
              "      <td>1</td>\n",
              "    </tr>\n",
              "    <tr>\n",
              "      <th>3</th>\n",
              "      <td>1</td>\n",
              "      <td>0</td>\n",
              "    </tr>\n",
              "    <tr>\n",
              "      <th>4</th>\n",
              "      <td>0</td>\n",
              "      <td>1</td>\n",
              "    </tr>\n",
              "  </tbody>\n",
              "</table>\n",
              "</div>"
            ],
            "text/plain": [
              "   homem  mulher\n",
              "0      1       0\n",
              "1      0       1\n",
              "2      0       1\n",
              "3      1       0\n",
              "4      0       1"
            ]
          },
          "metadata": {},
          "execution_count": 23
        }
      ]
    },
    {
      "cell_type": "code",
      "metadata": {
        "colab": {
          "base_uri": "https://localhost:8080/",
          "height": 203
        },
        "id": "FgGKV3QpG1KX",
        "outputId": "281dd01c-585b-4673-cf0e-c0c7411d95de"
      },
      "source": [
        "dummy_variable_glic = pd.get_dummies(base['diabético'])\n",
        "dummy_variable_glic.rename(columns={0: 'nao_diabetico', 1: 'diabetico'}, inplace=True)\n",
        "dummy_variable_glic.head()"
      ],
      "execution_count": 24,
      "outputs": [
        {
          "output_type": "execute_result",
          "data": {
            "text/html": [
              "<div>\n",
              "<style scoped>\n",
              "    .dataframe tbody tr th:only-of-type {\n",
              "        vertical-align: middle;\n",
              "    }\n",
              "\n",
              "    .dataframe tbody tr th {\n",
              "        vertical-align: top;\n",
              "    }\n",
              "\n",
              "    .dataframe thead th {\n",
              "        text-align: right;\n",
              "    }\n",
              "</style>\n",
              "<table border=\"1\" class=\"dataframe\">\n",
              "  <thead>\n",
              "    <tr style=\"text-align: right;\">\n",
              "      <th></th>\n",
              "      <th>nao_diabetico</th>\n",
              "      <th>diabetico</th>\n",
              "    </tr>\n",
              "  </thead>\n",
              "  <tbody>\n",
              "    <tr>\n",
              "      <th>0</th>\n",
              "      <td>1</td>\n",
              "      <td>0</td>\n",
              "    </tr>\n",
              "    <tr>\n",
              "      <th>1</th>\n",
              "      <td>1</td>\n",
              "      <td>0</td>\n",
              "    </tr>\n",
              "    <tr>\n",
              "      <th>2</th>\n",
              "      <td>1</td>\n",
              "      <td>0</td>\n",
              "    </tr>\n",
              "    <tr>\n",
              "      <th>3</th>\n",
              "      <td>1</td>\n",
              "      <td>0</td>\n",
              "    </tr>\n",
              "    <tr>\n",
              "      <th>4</th>\n",
              "      <td>1</td>\n",
              "      <td>0</td>\n",
              "    </tr>\n",
              "  </tbody>\n",
              "</table>\n",
              "</div>"
            ],
            "text/plain": [
              "   nao_diabetico  diabetico\n",
              "0              1          0\n",
              "1              1          0\n",
              "2              1          0\n",
              "3              1          0\n",
              "4              1          0"
            ]
          },
          "metadata": {},
          "execution_count": 24
        }
      ]
    },
    {
      "cell_type": "code",
      "metadata": {
        "colab": {
          "base_uri": "https://localhost:8080/",
          "height": 203
        },
        "id": "q6peuFYwHvoO",
        "outputId": "1e59efaf-568b-4f93-95bc-e48b76496e96"
      },
      "source": [
        "dummy_variable_col = pd.get_dummies(base['colesterol'])\n",
        "dummy_variable_col.rename(columns={0: 'colesterol_baixo', 1: 'colesterol_alto'}, inplace=True)\n",
        "dummy_variable_col.head()"
      ],
      "execution_count": 25,
      "outputs": [
        {
          "output_type": "execute_result",
          "data": {
            "text/html": [
              "<div>\n",
              "<style scoped>\n",
              "    .dataframe tbody tr th:only-of-type {\n",
              "        vertical-align: middle;\n",
              "    }\n",
              "\n",
              "    .dataframe tbody tr th {\n",
              "        vertical-align: top;\n",
              "    }\n",
              "\n",
              "    .dataframe thead th {\n",
              "        text-align: right;\n",
              "    }\n",
              "</style>\n",
              "<table border=\"1\" class=\"dataframe\">\n",
              "  <thead>\n",
              "    <tr style=\"text-align: right;\">\n",
              "      <th></th>\n",
              "      <th>colesterol_baixo</th>\n",
              "      <th>colesterol_alto</th>\n",
              "    </tr>\n",
              "  </thead>\n",
              "  <tbody>\n",
              "    <tr>\n",
              "      <th>0</th>\n",
              "      <td>1</td>\n",
              "      <td>0</td>\n",
              "    </tr>\n",
              "    <tr>\n",
              "      <th>1</th>\n",
              "      <td>0</td>\n",
              "      <td>1</td>\n",
              "    </tr>\n",
              "    <tr>\n",
              "      <th>2</th>\n",
              "      <td>0</td>\n",
              "      <td>1</td>\n",
              "    </tr>\n",
              "    <tr>\n",
              "      <th>3</th>\n",
              "      <td>1</td>\n",
              "      <td>0</td>\n",
              "    </tr>\n",
              "    <tr>\n",
              "      <th>4</th>\n",
              "      <td>1</td>\n",
              "      <td>0</td>\n",
              "    </tr>\n",
              "  </tbody>\n",
              "</table>\n",
              "</div>"
            ],
            "text/plain": [
              "   colesterol_baixo  colesterol_alto\n",
              "0                 1                0\n",
              "1                 0                1\n",
              "2                 0                1\n",
              "3                 1                0\n",
              "4                 1                0"
            ]
          },
          "metadata": {},
          "execution_count": 25
        }
      ]
    },
    {
      "cell_type": "code",
      "metadata": {
        "colab": {
          "base_uri": "https://localhost:8080/",
          "height": 203
        },
        "id": "EkKqh6gKN1cT",
        "outputId": "43f6677d-85c1-4656-9105-769c97fd4361"
      },
      "source": [
        "dummy_variable_age = pd.get_dummies(base['age_disct'])\n",
        "dummy_variable_age.rename(columns={'Adulto': 'adulto', 'Idoso': 'idoso'}, inplace=True)\n",
        "dummy_variable_age.head()"
      ],
      "execution_count": 26,
      "outputs": [
        {
          "output_type": "execute_result",
          "data": {
            "text/html": [
              "<div>\n",
              "<style scoped>\n",
              "    .dataframe tbody tr th:only-of-type {\n",
              "        vertical-align: middle;\n",
              "    }\n",
              "\n",
              "    .dataframe tbody tr th {\n",
              "        vertical-align: top;\n",
              "    }\n",
              "\n",
              "    .dataframe thead th {\n",
              "        text-align: right;\n",
              "    }\n",
              "</style>\n",
              "<table border=\"1\" class=\"dataframe\">\n",
              "  <thead>\n",
              "    <tr style=\"text-align: right;\">\n",
              "      <th></th>\n",
              "      <th>adulto</th>\n",
              "      <th>idoso</th>\n",
              "    </tr>\n",
              "  </thead>\n",
              "  <tbody>\n",
              "    <tr>\n",
              "      <th>0</th>\n",
              "      <td>1</td>\n",
              "      <td>0</td>\n",
              "    </tr>\n",
              "    <tr>\n",
              "      <th>1</th>\n",
              "      <td>1</td>\n",
              "      <td>0</td>\n",
              "    </tr>\n",
              "    <tr>\n",
              "      <th>2</th>\n",
              "      <td>1</td>\n",
              "      <td>0</td>\n",
              "    </tr>\n",
              "    <tr>\n",
              "      <th>3</th>\n",
              "      <td>1</td>\n",
              "      <td>0</td>\n",
              "    </tr>\n",
              "    <tr>\n",
              "      <th>4</th>\n",
              "      <td>1</td>\n",
              "      <td>0</td>\n",
              "    </tr>\n",
              "  </tbody>\n",
              "</table>\n",
              "</div>"
            ],
            "text/plain": [
              "   adulto  idoso\n",
              "0       1      0\n",
              "1       1      0\n",
              "2       1      0\n",
              "3       1      0\n",
              "4       1      0"
            ]
          },
          "metadata": {},
          "execution_count": 26
        }
      ]
    },
    {
      "cell_type": "code",
      "metadata": {
        "id": "pZrX_9i8IYZr"
      },
      "source": [
        "base = pd.concat([base, dummy_variable_sex, dummy_variable_glic, dummy_variable_col, dummy_variable_age], axis=1)"
      ],
      "execution_count": 27,
      "outputs": []
    },
    {
      "cell_type": "code",
      "metadata": {
        "colab": {
          "base_uri": "https://localhost:8080/",
          "height": 203
        },
        "id": "o4m2vy_6OjpD",
        "outputId": "f10dffd2-2d83-4530-9cad-b8fb664ac5ab"
      },
      "source": [
        "base.head()"
      ],
      "execution_count": 28,
      "outputs": [
        {
          "output_type": "execute_result",
          "data": {
            "text/html": [
              "<div>\n",
              "<style scoped>\n",
              "    .dataframe tbody tr th:only-of-type {\n",
              "        vertical-align: middle;\n",
              "    }\n",
              "\n",
              "    .dataframe tbody tr th {\n",
              "        vertical-align: top;\n",
              "    }\n",
              "\n",
              "    .dataframe thead th {\n",
              "        text-align: right;\n",
              "    }\n",
              "</style>\n",
              "<table border=\"1\" class=\"dataframe\">\n",
              "  <thead>\n",
              "    <tr style=\"text-align: right;\">\n",
              "      <th></th>\n",
              "      <th>age</th>\n",
              "      <th>gender</th>\n",
              "      <th>cardio</th>\n",
              "      <th>age_disct</th>\n",
              "      <th>diabético</th>\n",
              "      <th>colesterol</th>\n",
              "      <th>homem</th>\n",
              "      <th>mulher</th>\n",
              "      <th>nao_diabetico</th>\n",
              "      <th>diabetico</th>\n",
              "      <th>colesterol_baixo</th>\n",
              "      <th>colesterol_alto</th>\n",
              "      <th>adulto</th>\n",
              "      <th>idoso</th>\n",
              "    </tr>\n",
              "  </thead>\n",
              "  <tbody>\n",
              "    <tr>\n",
              "      <th>0</th>\n",
              "      <td>50</td>\n",
              "      <td>0</td>\n",
              "      <td>0</td>\n",
              "      <td>Adulto</td>\n",
              "      <td>0</td>\n",
              "      <td>0</td>\n",
              "      <td>1</td>\n",
              "      <td>0</td>\n",
              "      <td>1</td>\n",
              "      <td>0</td>\n",
              "      <td>1</td>\n",
              "      <td>0</td>\n",
              "      <td>1</td>\n",
              "      <td>0</td>\n",
              "    </tr>\n",
              "    <tr>\n",
              "      <th>1</th>\n",
              "      <td>55</td>\n",
              "      <td>1</td>\n",
              "      <td>1</td>\n",
              "      <td>Adulto</td>\n",
              "      <td>0</td>\n",
              "      <td>1</td>\n",
              "      <td>0</td>\n",
              "      <td>1</td>\n",
              "      <td>1</td>\n",
              "      <td>0</td>\n",
              "      <td>0</td>\n",
              "      <td>1</td>\n",
              "      <td>1</td>\n",
              "      <td>0</td>\n",
              "    </tr>\n",
              "    <tr>\n",
              "      <th>2</th>\n",
              "      <td>51</td>\n",
              "      <td>1</td>\n",
              "      <td>1</td>\n",
              "      <td>Adulto</td>\n",
              "      <td>0</td>\n",
              "      <td>1</td>\n",
              "      <td>0</td>\n",
              "      <td>1</td>\n",
              "      <td>1</td>\n",
              "      <td>0</td>\n",
              "      <td>0</td>\n",
              "      <td>1</td>\n",
              "      <td>1</td>\n",
              "      <td>0</td>\n",
              "    </tr>\n",
              "    <tr>\n",
              "      <th>3</th>\n",
              "      <td>48</td>\n",
              "      <td>0</td>\n",
              "      <td>1</td>\n",
              "      <td>Adulto</td>\n",
              "      <td>0</td>\n",
              "      <td>0</td>\n",
              "      <td>1</td>\n",
              "      <td>0</td>\n",
              "      <td>1</td>\n",
              "      <td>0</td>\n",
              "      <td>1</td>\n",
              "      <td>0</td>\n",
              "      <td>1</td>\n",
              "      <td>0</td>\n",
              "    </tr>\n",
              "    <tr>\n",
              "      <th>4</th>\n",
              "      <td>47</td>\n",
              "      <td>1</td>\n",
              "      <td>0</td>\n",
              "      <td>Adulto</td>\n",
              "      <td>0</td>\n",
              "      <td>0</td>\n",
              "      <td>0</td>\n",
              "      <td>1</td>\n",
              "      <td>1</td>\n",
              "      <td>0</td>\n",
              "      <td>1</td>\n",
              "      <td>0</td>\n",
              "      <td>1</td>\n",
              "      <td>0</td>\n",
              "    </tr>\n",
              "  </tbody>\n",
              "</table>\n",
              "</div>"
            ],
            "text/plain": [
              "   age  gender  cardio  ... colesterol_alto  adulto  idoso\n",
              "0   50       0       0  ...               0       1      0\n",
              "1   55       1       1  ...               1       1      0\n",
              "2   51       1       1  ...               1       1      0\n",
              "3   48       0       1  ...               0       1      0\n",
              "4   47       1       0  ...               0       1      0\n",
              "\n",
              "[5 rows x 14 columns]"
            ]
          },
          "metadata": {},
          "execution_count": 28
        }
      ]
    },
    {
      "cell_type": "code",
      "metadata": {
        "id": "arBLgzadItGM"
      },
      "source": [
        "base.drop(columns=[\"gender\", \"colesterol\", \"diabético\", \"age_disct\"], axis = 1, inplace=True)"
      ],
      "execution_count": 29,
      "outputs": []
    },
    {
      "cell_type": "code",
      "metadata": {
        "colab": {
          "base_uri": "https://localhost:8080/",
          "height": 203
        },
        "id": "kPtd7z7wGCdC",
        "outputId": "6ebb78df-66e6-4613-c240-e8758317e753"
      },
      "source": [
        "base.head()"
      ],
      "execution_count": 30,
      "outputs": [
        {
          "output_type": "execute_result",
          "data": {
            "text/html": [
              "<div>\n",
              "<style scoped>\n",
              "    .dataframe tbody tr th:only-of-type {\n",
              "        vertical-align: middle;\n",
              "    }\n",
              "\n",
              "    .dataframe tbody tr th {\n",
              "        vertical-align: top;\n",
              "    }\n",
              "\n",
              "    .dataframe thead th {\n",
              "        text-align: right;\n",
              "    }\n",
              "</style>\n",
              "<table border=\"1\" class=\"dataframe\">\n",
              "  <thead>\n",
              "    <tr style=\"text-align: right;\">\n",
              "      <th></th>\n",
              "      <th>age</th>\n",
              "      <th>cardio</th>\n",
              "      <th>homem</th>\n",
              "      <th>mulher</th>\n",
              "      <th>nao_diabetico</th>\n",
              "      <th>diabetico</th>\n",
              "      <th>colesterol_baixo</th>\n",
              "      <th>colesterol_alto</th>\n",
              "      <th>adulto</th>\n",
              "      <th>idoso</th>\n",
              "    </tr>\n",
              "  </thead>\n",
              "  <tbody>\n",
              "    <tr>\n",
              "      <th>0</th>\n",
              "      <td>50</td>\n",
              "      <td>0</td>\n",
              "      <td>1</td>\n",
              "      <td>0</td>\n",
              "      <td>1</td>\n",
              "      <td>0</td>\n",
              "      <td>1</td>\n",
              "      <td>0</td>\n",
              "      <td>1</td>\n",
              "      <td>0</td>\n",
              "    </tr>\n",
              "    <tr>\n",
              "      <th>1</th>\n",
              "      <td>55</td>\n",
              "      <td>1</td>\n",
              "      <td>0</td>\n",
              "      <td>1</td>\n",
              "      <td>1</td>\n",
              "      <td>0</td>\n",
              "      <td>0</td>\n",
              "      <td>1</td>\n",
              "      <td>1</td>\n",
              "      <td>0</td>\n",
              "    </tr>\n",
              "    <tr>\n",
              "      <th>2</th>\n",
              "      <td>51</td>\n",
              "      <td>1</td>\n",
              "      <td>0</td>\n",
              "      <td>1</td>\n",
              "      <td>1</td>\n",
              "      <td>0</td>\n",
              "      <td>0</td>\n",
              "      <td>1</td>\n",
              "      <td>1</td>\n",
              "      <td>0</td>\n",
              "    </tr>\n",
              "    <tr>\n",
              "      <th>3</th>\n",
              "      <td>48</td>\n",
              "      <td>1</td>\n",
              "      <td>1</td>\n",
              "      <td>0</td>\n",
              "      <td>1</td>\n",
              "      <td>0</td>\n",
              "      <td>1</td>\n",
              "      <td>0</td>\n",
              "      <td>1</td>\n",
              "      <td>0</td>\n",
              "    </tr>\n",
              "    <tr>\n",
              "      <th>4</th>\n",
              "      <td>47</td>\n",
              "      <td>0</td>\n",
              "      <td>0</td>\n",
              "      <td>1</td>\n",
              "      <td>1</td>\n",
              "      <td>0</td>\n",
              "      <td>1</td>\n",
              "      <td>0</td>\n",
              "      <td>1</td>\n",
              "      <td>0</td>\n",
              "    </tr>\n",
              "  </tbody>\n",
              "</table>\n",
              "</div>"
            ],
            "text/plain": [
              "   age  cardio  homem  mulher  ...  colesterol_baixo  colesterol_alto  adulto  idoso\n",
              "0   50       0      1       0  ...                 1                0       1      0\n",
              "1   55       1      0       1  ...                 0                1       1      0\n",
              "2   51       1      0       1  ...                 0                1       1      0\n",
              "3   48       1      1       0  ...                 1                0       1      0\n",
              "4   47       0      0       1  ...                 1                0       1      0\n",
              "\n",
              "[5 rows x 10 columns]"
            ]
          },
          "metadata": {},
          "execution_count": 30
        }
      ]
    },
    {
      "cell_type": "markdown",
      "metadata": {
        "id": "hXGx4dfMZlNS"
      },
      "source": [
        "# **3 - Distribuição dos dados no conjunto**\n",
        "\n"
      ]
    },
    {
      "cell_type": "code",
      "metadata": {
        "colab": {
          "base_uri": "https://localhost:8080/"
        },
        "id": "NIohLhQzDaDv",
        "outputId": "15406dab-3c2b-485b-9623-b0ff0df083fd"
      },
      "source": [
        "#quantidade de homens e mulheres 0 - Mulheres // 1 - Homens\n",
        "base['homem'].value_counts()"
      ],
      "execution_count": 31,
      "outputs": [
        {
          "output_type": "execute_result",
          "data": {
            "text/plain": [
              "0    45530\n",
              "1    24470\n",
              "Name: homem, dtype: int64"
            ]
          },
          "metadata": {},
          "execution_count": 31
        }
      ]
    },
    {
      "cell_type": "code",
      "metadata": {
        "colab": {
          "base_uri": "https://localhost:8080/"
        },
        "id": "fdIMegJzF_QU",
        "outputId": "112253fb-0aa2-442d-c7d4-82bb3314802a"
      },
      "source": [
        "#porcentagem por genero 0 - Mulheres // 1 - Homens\n",
        "round(base['homem'].value_counts(normalize=True) * 100, 2)"
      ],
      "execution_count": 32,
      "outputs": [
        {
          "output_type": "execute_result",
          "data": {
            "text/plain": [
              "0    65.04\n",
              "1    34.96\n",
              "Name: homem, dtype: float64"
            ]
          },
          "metadata": {},
          "execution_count": 32
        }
      ]
    },
    {
      "cell_type": "code",
      "metadata": {
        "colab": {
          "base_uri": "https://localhost:8080/",
          "height": 454
        },
        "id": "MfEJPn66paRh",
        "outputId": "59044ecb-33f9-4bb6-9772-0422d0cda5ee"
      },
      "source": [
        "plt.figure(figsize=(8,6))\n",
        "sns.countplot(base['homem'])\n",
        "sns.set_theme(style=\"darkgrid\")\n",
        "plt.grid(True, linestyle='--')\n",
        "plt.xlabel('Sexo \\n 0 = Feminino | 1 = Masculino')\n",
        "plt.ylabel('Quantidade de Pacientes')\n",
        "plt.show()"
      ],
      "execution_count": 33,
      "outputs": [
        {
          "output_type": "stream",
          "name": "stderr",
          "text": [
            "/usr/local/lib/python3.7/dist-packages/seaborn/_decorators.py:43: FutureWarning: Pass the following variable as a keyword arg: x. From version 0.12, the only valid positional argument will be `data`, and passing other arguments without an explicit keyword will result in an error or misinterpretation.\n",
            "  FutureWarning\n"
          ]
        },
        {
          "output_type": "display_data",
          "data": {
            "image/png": "[encoded data removed]",
            "text/plain": [
              "<Figure size 576x432 with 1 Axes>"
            ]
          },
          "metadata": {
            "needs_background": "light"
          }
        }
      ]
    },
    {
      "cell_type": "code",
      "metadata": {
        "colab": {
          "base_uri": "https://localhost:8080/",
          "height": 448
        },
        "id": "FsX7RNNNS8r7",
        "outputId": "681f2eac-e2de-45ad-dd37-0fac0b2b888e"
      },
      "source": [
        "plt.figure(figsize=(15,6))\n",
        "sns.countplot(base['age'])\n",
        "plt.grid(True, linestyle='')\n",
        "plt.xlabel('Idades')\n",
        "plt.ylabel('Quantidade de Pacientes')\n",
        "plt.axvline(x = 23, color = 'r', label = 'axvline - full height')\n",
        "plt.show()"
      ],
      "execution_count": 34,
      "outputs": [
        {
          "output_type": "stream",
          "name": "stderr",
          "text": [
            "/usr/local/lib/python3.7/dist-packages/seaborn/_decorators.py:43: FutureWarning: Pass the following variable as a keyword arg: x. From version 0.12, the only valid positional argument will be `data`, and passing other arguments without an explicit keyword will result in an error or misinterpretation.\n",
            "  FutureWarning\n"
          ]
        },
        {
          "output_type": "display_data",
          "data": {
            "image/png": "[encoded data removed]",
            "text/plain": [
              "<Figure size 1080x432 with 1 Axes>"
            ]
          },
          "metadata": {}
        }
      ]
    },
    {
      "cell_type": "code",
      "metadata": {
        "colab": {
          "base_uri": "https://localhost:8080/"
        },
        "id": "U_GrH_y5txpy",
        "outputId": "b3785610-348e-45db-df2c-aa00a3fe27d3"
      },
      "source": [
        "base['idoso'].value_counts()"
      ],
      "execution_count": 35,
      "outputs": [
        {
          "output_type": "execute_result",
          "data": {
            "text/plain": [
              "0    56950\n",
              "1    13050\n",
              "Name: idoso, dtype: int64"
            ]
          },
          "metadata": {},
          "execution_count": 35
        }
      ]
    },
    {
      "cell_type": "code",
      "metadata": {
        "colab": {
          "base_uri": "https://localhost:8080/",
          "height": 462
        },
        "id": "TKCcL-Q3twfv",
        "outputId": "7bea5da9-9c50-443d-9031-a4599fd806c1"
      },
      "source": [
        "plt.figure(figsize=(8,6))\n",
        "sns.countplot(base['idoso'])\n",
        "plt.grid(True, linestyle='--')\n",
        "plt.xlabel('Idade \\n 0 = Adultos | 1 = Idosos')\n",
        "plt.ylabel('Quantidade de Pacientes')\n",
        "plt.show()"
      ],
      "execution_count": 36,
      "outputs": [
        {
          "output_type": "stream",
          "name": "stderr",
          "text": [
            "/usr/local/lib/python3.7/dist-packages/seaborn/_decorators.py:43: FutureWarning: Pass the following variable as a keyword arg: x. From version 0.12, the only valid positional argument will be `data`, and passing other arguments without an explicit keyword will result in an error or misinterpretation.\n",
            "  FutureWarning\n"
          ]
        },
        {
          "output_type": "display_data",
          "data": {
            "image/png": "[encoded data removed]",
            "text/plain": [
              "<Figure size 576x432 with 1 Axes>"
            ]
          },
          "metadata": {}
        }
      ]
    },
    {
      "cell_type": "code",
      "metadata": {
        "colab": {
          "base_uri": "https://localhost:8080/"
        },
        "id": "EPwYcQxNSOCa",
        "outputId": "ca3b9d66-9f91-499c-f295-bff532c63be1"
      },
      "source": [
        "# quantidade de ocrrencias com colesterol alto \n",
        "base['colesterol_alto'].value_counts()"
      ],
      "execution_count": 37,
      "outputs": [
        {
          "output_type": "execute_result",
          "data": {
            "text/plain": [
              "0    61934\n",
              "1     8066\n",
              "Name: colesterol_alto, dtype: int64"
            ]
          },
          "metadata": {},
          "execution_count": 37
        }
      ]
    },
    {
      "cell_type": "code",
      "metadata": {
        "colab": {
          "base_uri": "https://localhost:8080/",
          "height": 462
        },
        "id": "2VWSIoB3rLgX",
        "outputId": "f9fedaef-f9e0-40e5-ab96-87a32c31b7d6"
      },
      "source": [
        "plt.figure(figsize=(8,6))\n",
        "sns.countplot(base['colesterol_alto'])\n",
        "plt.grid(True, linestyle='--')\n",
        "plt.xlabel('Colesterol Alto \\n 0 = Ausente | 1 = Presente')\n",
        "plt.ylabel('Quantidade de Pacientes')\n",
        "plt.show()"
      ],
      "execution_count": 38,
      "outputs": [
        {
          "output_type": "stream",
          "name": "stderr",
          "text": [
            "/usr/local/lib/python3.7/dist-packages/seaborn/_decorators.py:43: FutureWarning: Pass the following variable as a keyword arg: x. From version 0.12, the only valid positional argument will be `data`, and passing other arguments without an explicit keyword will result in an error or misinterpretation.\n",
            "  FutureWarning\n"
          ]
        },
        {
          "output_type": "display_data",
          "data": {
            "image/png": "[encoded data removed]",
            "text/plain": [
              "<Figure size 576x432 with 1 Axes>"
            ]
          },
          "metadata": {}
        }
      ]
    },
    {
      "cell_type": "code",
      "metadata": {
        "colab": {
          "base_uri": "https://localhost:8080/"
        },
        "id": "bkyiFzBBsUAM",
        "outputId": "a3901ed9-a525-47c6-b91c-e5f9b7d4198c"
      },
      "source": [
        "base['diabetico'].value_counts()"
      ],
      "execution_count": 39,
      "outputs": [
        {
          "output_type": "execute_result",
          "data": {
            "text/plain": [
              "0    64669\n",
              "1     5331\n",
              "Name: diabetico, dtype: int64"
            ]
          },
          "metadata": {},
          "execution_count": 39
        }
      ]
    },
    {
      "cell_type": "code",
      "metadata": {
        "colab": {
          "base_uri": "https://localhost:8080/",
          "height": 462
        },
        "id": "C6Cf9jH3sTkf",
        "outputId": "ccfda28b-3a2e-45c9-9c89-8cb6254e2140"
      },
      "source": [
        "plt.figure(figsize=(8,6))\n",
        "sns.countplot(base['diabetico'])\n",
        "plt.grid(True, linestyle='--')\n",
        "plt.xlabel('Diabetes \\n 0 = Ausente | 1 = Presente')\n",
        "plt.ylabel('Quantidade de Pacientes')\n",
        "plt.show()"
      ],
      "execution_count": 40,
      "outputs": [
        {
          "output_type": "stream",
          "name": "stderr",
          "text": [
            "/usr/local/lib/python3.7/dist-packages/seaborn/_decorators.py:43: FutureWarning: Pass the following variable as a keyword arg: x. From version 0.12, the only valid positional argument will be `data`, and passing other arguments without an explicit keyword will result in an error or misinterpretation.\n",
            "  FutureWarning\n"
          ]
        },
        {
          "output_type": "display_data",
          "data": {
            "image/png": "[encoded data removed]",
            "text/plain": [
              "<Figure size 576x432 with 1 Axes>"
            ]
          },
          "metadata": {}
        }
      ]
    },
    {
      "cell_type": "code",
      "metadata": {
        "colab": {
          "base_uri": "https://localhost:8080/"
        },
        "id": "vKv6pEvRtTSF",
        "outputId": "2f4f6f1a-e0b3-4046-9d59-245c5f1f26a1"
      },
      "source": [
        "base['cardio'].value_counts()"
      ],
      "execution_count": 41,
      "outputs": [
        {
          "output_type": "execute_result",
          "data": {
            "text/plain": [
              "0    35021\n",
              "1    34979\n",
              "Name: cardio, dtype: int64"
            ]
          },
          "metadata": {},
          "execution_count": 41
        }
      ]
    },
    {
      "cell_type": "code",
      "metadata": {
        "colab": {
          "base_uri": "https://localhost:8080/",
          "height": 462
        },
        "id": "VgU_TLiTtAZL",
        "outputId": "b26be6f3-5429-4648-cf65-23b203802df0"
      },
      "source": [
        "plt.figure(figsize=(8,6))\n",
        "sns.countplot(base['cardio'])\n",
        "plt.grid(True, linestyle='--')\n",
        "plt.xlabel('Doença Cardíaca \\n 0 = Ausência | 1 = Presença')\n",
        "plt.ylabel('Quantidade de Pacientes')\n",
        "plt.show()"
      ],
      "execution_count": 42,
      "outputs": [
        {
          "output_type": "stream",
          "name": "stderr",
          "text": [
            "/usr/local/lib/python3.7/dist-packages/seaborn/_decorators.py:43: FutureWarning: Pass the following variable as a keyword arg: x. From version 0.12, the only valid positional argument will be `data`, and passing other arguments without an explicit keyword will result in an error or misinterpretation.\n",
            "  FutureWarning\n"
          ]
        },
        {
          "output_type": "display_data",
          "data": {
            "image/png": "[encoded data removed]",
            "text/plain": [
              "<Figure size 576x432 with 1 Axes>"
            ]
          },
          "metadata": {}
        }
      ]
    },
    {
      "cell_type": "markdown",
      "metadata": {
        "id": "lvVAhVK1vBuT"
      },
      "source": [
        "# **4 - Verificando as depedências entre as variáveis**"
      ]
    },
    {
      "cell_type": "markdown",
      "metadata": {
        "id": "jXsWVSiZUbeN"
      },
      "source": [
        "Vamos verificar a dependência entre as variáveis, utilizando o Chi-Square e o P-value, a partir da função chi2 do Sklearn. Essa verificação é recomendada para variáveis categóricas.\n",
        "\n",
        "https://medium.com/data-hackers/estat%C3%ADstica-para-sele%C3%A7%C3%A3o-de-atributos-81bdc274dd2c\n"
      ]
    },
    {
      "cell_type": "code",
      "metadata": {
        "id": "CQTQk5WZBaDf"
      },
      "source": [
        "from sklearn.feature_selection import chi2"
      ],
      "execution_count": 43,
      "outputs": []
    },
    {
      "cell_type": "code",
      "metadata": {
        "id": "ZdrBH9FBBc7l"
      },
      "source": [
        "X = base.drop(['age', 'cardio'], axis=1) \n",
        "y = base.cardio"
      ],
      "execution_count": 44,
      "outputs": []
    },
    {
      "cell_type": "code",
      "metadata": {
        "id": "j0g9ezTBBmns"
      },
      "source": [
        "# Calculando Chi-Squared\n",
        "chi_scores = chi2(X,y)"
      ],
      "execution_count": 45,
      "outputs": []
    },
    {
      "cell_type": "code",
      "metadata": {
        "id": "Ouqh0sYVBrHL"
      },
      "source": [
        "# Colocando label nos resultados para posterior plot\n",
        "scores = pd.Series(chi_scores[0], index=X.columns)\n",
        "pvalues = pd.Series(chi_scores[1], index=X.columns)"
      ],
      "execution_count": 46,
      "outputs": []
    },
    {
      "cell_type": "code",
      "metadata": {
        "colab": {
          "base_uri": "https://localhost:8080/",
          "height": 0
        },
        "id": "R2ldL_aPBucy",
        "outputId": "6203058e-c71a-4752-8ce3-2614e359b522"
      },
      "source": [
        "# Results\n",
        "pd.DataFrame({'Chi2':scores, 'p-Value':pvalues})"
      ],
      "execution_count": 47,
      "outputs": [
        {
          "output_type": "execute_result",
          "data": {
            "text/html": [
              "<div>\n",
              "<style scoped>\n",
              "    .dataframe tbody tr th:only-of-type {\n",
              "        vertical-align: middle;\n",
              "    }\n",
              "\n",
              "    .dataframe tbody tr th {\n",
              "        vertical-align: top;\n",
              "    }\n",
              "\n",
              "    .dataframe thead th {\n",
              "        text-align: right;\n",
              "    }\n",
              "</style>\n",
              "<table border=\"1\" class=\"dataframe\">\n",
              "  <thead>\n",
              "    <tr style=\"text-align: right;\">\n",
              "      <th></th>\n",
              "      <th>Chi2</th>\n",
              "      <th>p-Value</th>\n",
              "    </tr>\n",
              "  </thead>\n",
              "  <tbody>\n",
              "    <tr>\n",
              "      <th>homem</th>\n",
              "      <td>2.994229</td>\n",
              "      <td>8.356171e-02</td>\n",
              "    </tr>\n",
              "    <tr>\n",
              "      <th>mulher</th>\n",
              "      <td>1.609242</td>\n",
              "      <td>2.045984e-01</td>\n",
              "    </tr>\n",
              "    <tr>\n",
              "      <th>nao_diabetico</th>\n",
              "      <td>26.302163</td>\n",
              "      <td>2.919615e-07</td>\n",
              "    </tr>\n",
              "    <tr>\n",
              "      <th>diabetico</th>\n",
              "      <td>319.064828</td>\n",
              "      <td>2.315276e-71</td>\n",
              "    </tr>\n",
              "    <tr>\n",
              "      <th>colesterol_baixo</th>\n",
              "      <td>296.719094</td>\n",
              "      <td>1.708375e-66</td>\n",
              "    </tr>\n",
              "    <tr>\n",
              "      <th>colesterol_alto</th>\n",
              "      <td>2278.328834</td>\n",
              "      <td>0.000000e+00</td>\n",
              "    </tr>\n",
              "    <tr>\n",
              "      <th>adulto</th>\n",
              "      <td>346.616354</td>\n",
              "      <td>2.311993e-77</td>\n",
              "    </tr>\n",
              "    <tr>\n",
              "      <th>idoso</th>\n",
              "      <td>1514.590920</td>\n",
              "      <td>0.000000e+00</td>\n",
              "    </tr>\n",
              "  </tbody>\n",
              "</table>\n",
              "</div>"
            ],
            "text/plain": [
              "                         Chi2       p-Value\n",
              "homem                2.994229  8.356171e-02\n",
              "mulher               1.609242  2.045984e-01\n",
              "nao_diabetico       26.302163  2.919615e-07\n",
              "diabetico          319.064828  2.315276e-71\n",
              "colesterol_baixo   296.719094  1.708375e-66\n",
              "colesterol_alto   2278.328834  0.000000e+00\n",
              "adulto             346.616354  2.311993e-77\n",
              "idoso             1514.590920  0.000000e+00"
            ]
          },
          "metadata": {},
          "execution_count": 47
        }
      ]
    },
    {
      "cell_type": "markdown",
      "metadata": {
        "id": "BqSML548bh_n"
      },
      "source": [
        "Podemos observar, por exemplo, as linhas colesterol_alto e idoso com uma alta dependência com a variável cardio que representa ausência ou presença de Doença Cardíaca. Mas, vamos agrupar um pouco mais as caracteristicas dos pacientes e verificar os valores.  "
      ]
    },
    {
      "cell_type": "markdown",
      "metadata": {
        "id": "zgfkVcvMbcjx"
      },
      "source": [
        "### Agrupando os pacientes"
      ]
    },
    {
      "cell_type": "code",
      "metadata": {
        "id": "Bm-tIyvbz-ZV"
      },
      "source": [
        "homem = base['homem'] == 1\n",
        "mulher = base['mulher'] == 1\n",
        "idoso = base['idoso'] == 1\n",
        "adulto = base['adulto'] == 1\n",
        "diabetes = base['diabetico'] == 1\n",
        "n_diabetes = base['nao_diabetico'] == 1"
      ],
      "execution_count": 48,
      "outputs": []
    },
    {
      "cell_type": "code",
      "metadata": {
        "id": "M1Lk5ZWe246s"
      },
      "source": [
        "h_adulto = base[homem & adulto]\n",
        "h_idoso = base[homem & idoso]\n",
        "h_diab = base[homem & diabetes]\n",
        "h_ndiab = base[homem & n_diabetes]"
      ],
      "execution_count": 49,
      "outputs": []
    },
    {
      "cell_type": "code",
      "metadata": {
        "id": "UJpt7IyL3g2b"
      },
      "source": [
        "h_adulto_diab = base[homem & adulto & diabetes]\n",
        "h_ido_diab = base[homem & idoso & diabetes ]\n",
        "h_adulto_ndiab = base[homem & adulto & n_diabetes]\n",
        "h_idoso_ndiab = base[homem & idoso & n_diabetes]"
      ],
      "execution_count": 50,
      "outputs": []
    },
    {
      "cell_type": "code",
      "metadata": {
        "id": "Wz31bRge5ZJ4"
      },
      "source": [
        "m_adulto = base[mulher & adulto]\n",
        "m_idoso = base[mulher & idoso]\n",
        "m_diab = base[mulher & diabetes]\n",
        "m_ndiab = base[mulher & n_diabetes]"
      ],
      "execution_count": 51,
      "outputs": []
    },
    {
      "cell_type": "code",
      "metadata": {
        "id": "vxpcrYPO5imA"
      },
      "source": [
        "m_adulto_diab = [mulher & adulto & diabetes]\n",
        "m_ido_diab = [mulher & idoso & diabetes ]\n",
        "m_adulto_ndiab = [mulher & adulto & n_diabetes]\n",
        "m_idoso_ndiab = [mulher & idoso & n_diabetes]"
      ],
      "execution_count": 52,
      "outputs": []
    },
    {
      "cell_type": "markdown",
      "metadata": {
        "id": "Oue73CJxnqV3"
      },
      "source": [
        "Todos os perfis consideram os pacientes com colesterol alto."
      ]
    },
    {
      "cell_type": "code",
      "metadata": {
        "id": "7fF1azJyHm85"
      },
      "source": [
        "#Homem \n",
        "base['Perfil_M'] = np.where(homem  & base['colesterol_alto']==1, 1, 0)\n",
        "base['Perfil_MA'] = np.where(homem & adulto & base['colesterol_alto']==1, 1, 0)\n",
        "base['Perfil_MI'] = np.where(homem & idoso & base['colesterol_alto']==1, 1, 0)"
      ],
      "execution_count": 53,
      "outputs": []
    },
    {
      "cell_type": "code",
      "metadata": {
        "colab": {
          "base_uri": "https://localhost:8080/"
        },
        "id": "7P-gi_fPf_in",
        "outputId": "1a7e7637-20e7-4af3-a96f-88f5322df023"
      },
      "source": [
        "base['Perfil_MI']. value_counts()"
      ],
      "execution_count": 54,
      "outputs": [
        {
          "output_type": "execute_result",
          "data": {
            "text/plain": [
              "0    69251\n",
              "1      749\n",
              "Name: Perfil_MI, dtype: int64"
            ]
          },
          "metadata": {},
          "execution_count": 54
        }
      ]
    },
    {
      "cell_type": "code",
      "metadata": {
        "colab": {
          "base_uri": "https://localhost:8080/"
        },
        "id": "iLQA_XrTYDTZ",
        "outputId": "6bac0de8-f42a-44ce-a5e4-4d05a1e54a0f"
      },
      "source": [
        "round(base['Perfil_MI'].value_counts(normalize=True) * 100, 2)"
      ],
      "execution_count": 55,
      "outputs": [
        {
          "output_type": "execute_result",
          "data": {
            "text/plain": [
              "0    98.93\n",
              "1     1.07\n",
              "Name: Perfil_MI, dtype: float64"
            ]
          },
          "metadata": {},
          "execution_count": 55
        }
      ]
    },
    {
      "cell_type": "code",
      "metadata": {
        "colab": {
          "base_uri": "https://localhost:8080/"
        },
        "id": "OIcQA4S8ZBMf",
        "outputId": "80cbe498-baf8-4112-a7eb-92fb0fc644a2"
      },
      "source": [
        "total_h_idoso = h_idoso.count()\n",
        "total_h_idoso[0]"
      ],
      "execution_count": 56,
      "outputs": [
        {
          "output_type": "execute_result",
          "data": {
            "text/plain": [
              "4673"
            ]
          },
          "metadata": {},
          "execution_count": 56
        }
      ]
    },
    {
      "cell_type": "code",
      "metadata": {
        "colab": {
          "base_uri": "https://localhost:8080/"
        },
        "id": "YlYwVYRVf7UT",
        "outputId": "ec6e6b7c-c70c-4a27-c4ea-8532414846b3"
      },
      "source": [
        "total_h_idoso[0]/base['Perfil_MI']. value_counts()[1]"
      ],
      "execution_count": 57,
      "outputs": [
        {
          "output_type": "execute_result",
          "data": {
            "text/plain": [
              "6.238985313751669"
            ]
          },
          "metadata": {},
          "execution_count": 57
        }
      ]
    },
    {
      "cell_type": "code",
      "metadata": {
        "id": "UnPfVE55DdsQ"
      },
      "source": [
        "base['Perfil_MD'] = np.where(homem & diabetes & base['colesterol_alto']==1, 1, 0)\n",
        "base['Perfil_MAD'] = np.where(homem & adulto & diabetes & base['colesterol_alto']==1, 1, 0)\n",
        "base['Perfil_MID'] = np.where(homem & idoso & diabetes & base['colesterol_alto']==1, 1, 0)\n",
        "base['Perfil_MAN'] = np.where(homem & adulto & n_diabetes & base['colesterol_alto']==1, 1, 0)\n",
        "base['Perfil_MIN'] = np.where(homem & idoso &  n_diabetes & base['colesterol_alto']==1, 1, 0)"
      ],
      "execution_count": 58,
      "outputs": []
    },
    {
      "cell_type": "code",
      "metadata": {
        "colab": {
          "base_uri": "https://localhost:8080/"
        },
        "id": "3pZ_sOE_XR4W",
        "outputId": "764c1acf-9cab-44ea-ad64-1a1d832f8212"
      },
      "source": [
        "base['Perfil_MID'].value_counts()"
      ],
      "execution_count": 59,
      "outputs": [
        {
          "output_type": "execute_result",
          "data": {
            "text/plain": [
              "0    69708\n",
              "1      292\n",
              "Name: Perfil_MID, dtype: int64"
            ]
          },
          "metadata": {},
          "execution_count": 59
        }
      ]
    },
    {
      "cell_type": "code",
      "metadata": {
        "colab": {
          "base_uri": "https://localhost:8080/"
        },
        "id": "_kTpAFLYWSsK",
        "outputId": "9ff4f784-72f6-4599-cfeb-57710d3978c3"
      },
      "source": [
        "round(base['Perfil_MID'].value_counts(normalize=True) * 100, 2)"
      ],
      "execution_count": 60,
      "outputs": [
        {
          "output_type": "execute_result",
          "data": {
            "text/plain": [
              "0    99.58\n",
              "1     0.42\n",
              "Name: Perfil_MID, dtype: float64"
            ]
          },
          "metadata": {},
          "execution_count": 60
        }
      ]
    },
    {
      "cell_type": "code",
      "metadata": {
        "id": "QJna9mWzXOLL"
      },
      "source": [
        ""
      ],
      "execution_count": 60,
      "outputs": []
    },
    {
      "cell_type": "code",
      "metadata": {
        "id": "3owgg3cOH9Ij"
      },
      "source": [
        "#Mulher \n",
        "base['Perfil_F'] = np.where(mulher & base['colesterol_alto']==1, 1, 0)\n",
        "base['Perfil_FA'] = np.where(mulher & adulto & base['colesterol_alto']==1, 1, 0)\n",
        "\n",
        "base['Perfil_FI'] = np.where(mulher & idoso & base['colesterol_alto']==1, 1, 0)"
      ],
      "execution_count": 61,
      "outputs": []
    },
    {
      "cell_type": "code",
      "metadata": {
        "id": "aSIpGW_hGrAO"
      },
      "source": [
        "base['Perfil_FD'] = np.where(mulher & diabetes & base['colesterol_alto']==1, 1, 0)\n",
        "base['Perfil_FAD'] = np.where(mulher & adulto & diabetes & base['colesterol_alto']==1, 1, 0)\n",
        "base['Perfil_FID'] = np.where(mulher & idoso & diabetes & base['colesterol_alto']==1, 1, 0)\n",
        "base['Perfil_FAN'] = np.where(mulher & adulto & n_diabetes & base['colesterol_alto']==1, 1, 0)\n",
        "base['Perfil_FIN'] = np.where(mulher & idoso &  n_diabetes & base['colesterol_alto']==1, 1, 0)"
      ],
      "execution_count": 62,
      "outputs": []
    },
    {
      "cell_type": "code",
      "metadata": {
        "id": "hNjSTn7qKV-r"
      },
      "source": [
        "base['Perfil_A'] = np.where(adulto & base['colesterol_alto']==1, 1, 0)\n",
        "base['Perfil_I'] = np.where(idoso & base['colesterol_alto']==1, 1, 0)\n",
        "base['Perfil_D'] = np.where(idoso & base['colesterol_alto']==1, 1, 0)\n",
        "base['Perfil_N'] = np.where(idoso & base['colesterol_alto']==1, 1, 0)"
      ],
      "execution_count": 63,
      "outputs": []
    },
    {
      "cell_type": "code",
      "metadata": {
        "id": "SJ5y8ncbDdi9"
      },
      "source": [
        "X = base.drop(['age', 'cardio'], axis=1)\n",
        "y = base.cardio"
      ],
      "execution_count": 64,
      "outputs": []
    },
    {
      "cell_type": "code",
      "metadata": {
        "id": "ZIDHUO8bEno_"
      },
      "source": [
        "chi_scores = chi2(X,y)"
      ],
      "execution_count": 65,
      "outputs": []
    },
    {
      "cell_type": "code",
      "metadata": {
        "id": "6TkEknomEqCm"
      },
      "source": [
        "scores = pd.Series(chi_scores[0], index=X.columns)\n",
        "pvalues = pd.Series(chi_scores[1], index=X.columns)"
      ],
      "execution_count": 66,
      "outputs": []
    },
    {
      "cell_type": "code",
      "metadata": {
        "id": "c0V1uewZEs42"
      },
      "source": [
        "perfil_sort = pd.DataFrame({'Chi2':scores, 'p-Value':pvalues})"
      ],
      "execution_count": 67,
      "outputs": []
    },
    {
      "cell_type": "code",
      "metadata": {
        "colab": {
          "base_uri": "https://localhost:8080/",
          "height": 0
        },
        "id": "JHrWRfAVKtvT",
        "outputId": "f4ba4c20-7706-4f2f-bbbc-282afc7ab88f"
      },
      "source": [
        "perfil_sort.sort_values(by='Chi2', ascending=False)"
      ],
      "execution_count": 68,
      "outputs": [
        {
          "output_type": "execute_result",
          "data": {
            "text/html": [
              "<div>\n",
              "<style scoped>\n",
              "    .dataframe tbody tr th:only-of-type {\n",
              "        vertical-align: middle;\n",
              "    }\n",
              "\n",
              "    .dataframe tbody tr th {\n",
              "        vertical-align: top;\n",
              "    }\n",
              "\n",
              "    .dataframe thead th {\n",
              "        text-align: right;\n",
              "    }\n",
              "</style>\n",
              "<table border=\"1\" class=\"dataframe\">\n",
              "  <thead>\n",
              "    <tr style=\"text-align: right;\">\n",
              "      <th></th>\n",
              "      <th>Chi2</th>\n",
              "      <th>p-Value</th>\n",
              "    </tr>\n",
              "  </thead>\n",
              "  <tbody>\n",
              "    <tr>\n",
              "      <th>colesterol_alto</th>\n",
              "      <td>2278.328834</td>\n",
              "      <td>0.000000e+00</td>\n",
              "    </tr>\n",
              "    <tr>\n",
              "      <th>Perfil_F</th>\n",
              "      <td>1635.093385</td>\n",
              "      <td>0.000000e+00</td>\n",
              "    </tr>\n",
              "    <tr>\n",
              "      <th>idoso</th>\n",
              "      <td>1514.590920</td>\n",
              "      <td>0.000000e+00</td>\n",
              "    </tr>\n",
              "    <tr>\n",
              "      <th>Perfil_A</th>\n",
              "      <td>1338.754754</td>\n",
              "      <td>4.279219e-293</td>\n",
              "    </tr>\n",
              "    <tr>\n",
              "      <th>Perfil_N</th>\n",
              "      <td>978.895940</td>\n",
              "      <td>6.943472e-215</td>\n",
              "    </tr>\n",
              "    <tr>\n",
              "      <th>Perfil_D</th>\n",
              "      <td>978.895940</td>\n",
              "      <td>6.943472e-215</td>\n",
              "    </tr>\n",
              "    <tr>\n",
              "      <th>Perfil_I</th>\n",
              "      <td>978.895940</td>\n",
              "      <td>6.943472e-215</td>\n",
              "    </tr>\n",
              "    <tr>\n",
              "      <th>Perfil_FA</th>\n",
              "      <td>960.661352</td>\n",
              "      <td>6.386193e-211</td>\n",
              "    </tr>\n",
              "    <tr>\n",
              "      <th>Perfil_FAN</th>\n",
              "      <td>862.972439</td>\n",
              "      <td>1.099906e-189</td>\n",
              "    </tr>\n",
              "    <tr>\n",
              "      <th>Perfil_FI</th>\n",
              "      <td>702.974471</td>\n",
              "      <td>6.743537e-155</td>\n",
              "    </tr>\n",
              "    <tr>\n",
              "      <th>Perfil_M</th>\n",
              "      <td>645.384845</td>\n",
              "      <td>2.253315e-142</td>\n",
              "    </tr>\n",
              "    <tr>\n",
              "      <th>Perfil_FIN</th>\n",
              "      <td>492.212964</td>\n",
              "      <td>4.702171e-109</td>\n",
              "    </tr>\n",
              "    <tr>\n",
              "      <th>Perfil_FD</th>\n",
              "      <td>380.476740</td>\n",
              "      <td>9.798683e-85</td>\n",
              "    </tr>\n",
              "    <tr>\n",
              "      <th>Perfil_MA</th>\n",
              "      <td>379.307243</td>\n",
              "      <td>1.761107e-84</td>\n",
              "    </tr>\n",
              "    <tr>\n",
              "      <th>adulto</th>\n",
              "      <td>346.616354</td>\n",
              "      <td>2.311993e-77</td>\n",
              "    </tr>\n",
              "    <tr>\n",
              "      <th>Perfil_MAN</th>\n",
              "      <td>340.469583</td>\n",
              "      <td>5.042013e-76</td>\n",
              "    </tr>\n",
              "    <tr>\n",
              "      <th>diabetico</th>\n",
              "      <td>319.064828</td>\n",
              "      <td>2.315276e-71</td>\n",
              "    </tr>\n",
              "    <tr>\n",
              "      <th>colesterol_baixo</th>\n",
              "      <td>296.719094</td>\n",
              "      <td>1.708375e-66</td>\n",
              "    </tr>\n",
              "    <tr>\n",
              "      <th>Perfil_MI</th>\n",
              "      <td>276.948239</td>\n",
              "      <td>3.472487e-62</td>\n",
              "    </tr>\n",
              "    <tr>\n",
              "      <th>Perfil_FID</th>\n",
              "      <td>218.090202</td>\n",
              "      <td>2.360300e-49</td>\n",
              "    </tr>\n",
              "    <tr>\n",
              "      <th>Perfil_MIN</th>\n",
              "      <td>203.922037</td>\n",
              "      <td>2.910691e-46</td>\n",
              "    </tr>\n",
              "    <tr>\n",
              "      <th>Perfil_FAD</th>\n",
              "      <td>191.448716</td>\n",
              "      <td>1.535019e-43</td>\n",
              "    </tr>\n",
              "    <tr>\n",
              "      <th>Perfil_MD</th>\n",
              "      <td>137.251359</td>\n",
              "      <td>1.062476e-31</td>\n",
              "    </tr>\n",
              "    <tr>\n",
              "      <th>Perfil_MID</th>\n",
              "      <td>77.234927</td>\n",
              "      <td>1.517854e-18</td>\n",
              "    </tr>\n",
              "    <tr>\n",
              "      <th>Perfil_MAD</th>\n",
              "      <td>68.859610</td>\n",
              "      <td>1.057281e-16</td>\n",
              "    </tr>\n",
              "    <tr>\n",
              "      <th>nao_diabetico</th>\n",
              "      <td>26.302163</td>\n",
              "      <td>2.919615e-07</td>\n",
              "    </tr>\n",
              "    <tr>\n",
              "      <th>homem</th>\n",
              "      <td>2.994229</td>\n",
              "      <td>8.356171e-02</td>\n",
              "    </tr>\n",
              "    <tr>\n",
              "      <th>mulher</th>\n",
              "      <td>1.609242</td>\n",
              "      <td>2.045984e-01</td>\n",
              "    </tr>\n",
              "  </tbody>\n",
              "</table>\n",
              "</div>"
            ],
            "text/plain": [
              "                         Chi2        p-Value\n",
              "colesterol_alto   2278.328834   0.000000e+00\n",
              "Perfil_F          1635.093385   0.000000e+00\n",
              "idoso             1514.590920   0.000000e+00\n",
              "Perfil_A          1338.754754  4.279219e-293\n",
              "Perfil_N           978.895940  6.943472e-215\n",
              "Perfil_D           978.895940  6.943472e-215\n",
              "Perfil_I           978.895940  6.943472e-215\n",
              "Perfil_FA          960.661352  6.386193e-211\n",
              "Perfil_FAN         862.972439  1.099906e-189\n",
              "Perfil_FI          702.974471  6.743537e-155\n",
              "Perfil_M           645.384845  2.253315e-142\n",
              "Perfil_FIN         492.212964  4.702171e-109\n",
              "Perfil_FD          380.476740   9.798683e-85\n",
              "Perfil_MA          379.307243   1.761107e-84\n",
              "adulto             346.616354   2.311993e-77\n",
              "Perfil_MAN         340.469583   5.042013e-76\n",
              "diabetico          319.064828   2.315276e-71\n",
              "colesterol_baixo   296.719094   1.708375e-66\n",
              "Perfil_MI          276.948239   3.472487e-62\n",
              "Perfil_FID         218.090202   2.360300e-49\n",
              "Perfil_MIN         203.922037   2.910691e-46\n",
              "Perfil_FAD         191.448716   1.535019e-43\n",
              "Perfil_MD          137.251359   1.062476e-31\n",
              "Perfil_MID          77.234927   1.517854e-18\n",
              "Perfil_MAD          68.859610   1.057281e-16\n",
              "nao_diabetico       26.302163   2.919615e-07\n",
              "homem                2.994229   8.356171e-02\n",
              "mulher               1.609242   2.045984e-01"
            ]
          },
          "metadata": {},
          "execution_count": 68
        }
      ]
    },
    {
      "cell_type": "code",
      "metadata": {
        "colab": {
          "base_uri": "https://localhost:8080/",
          "height": 0
        },
        "id": "JckAImzyL6ck",
        "outputId": "4bd77081-080c-4c6e-f6ba-62fe5373c818"
      },
      "source": [
        "# Mapa de calor com os resultados do chi-quadrado\n",
        "fig = plt.figure(figsize=(8,8))\n",
        "sns.heatmap(perfil_sort.sort_values(by='Chi2', ascending=False), annot=True, cmap='Blues')\n",
        "plt.title('Resultados do Teste Chi-Quadrado')\n",
        "plt.show()"
      ],
      "execution_count": 69,
      "outputs": [
        {
          "output_type": "display_data",
          "data": {
            "image/png": "[encoded data removed]",
            "text/plain": [
              "<Figure size 576x576 with 2 Axes>"
            ]
          },
          "metadata": {}
        }
      ]
    }
  ]
}
