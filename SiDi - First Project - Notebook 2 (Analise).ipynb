{
 "cells": [
  {
   "cell_type": "markdown",
   "id": "1f894624",
   "metadata": {},
   "source": [
    "# Analisando o dataset \"Heart Failure\" retirado do site Kaggle\n",
    "Link do dataset e descrição dos dados: https://www.kaggle.com/fedesoriano/heart-failure-prediction\n",
    "\n",
    "Após ter realizado o processamento dos dados uma análise dos dados é feita neste notebook afim de encontrar um perfil."
   ]
  },
  {
   "cell_type": "markdown",
   "id": "b1602101",
   "metadata": {},
   "source": [
    "### Importando Bibliotecas"
   ]
  },
  {
   "cell_type": "code",
   "execution_count": 1,
   "id": "2872bf40",
   "metadata": {},
   "outputs": [],
   "source": [
    "import pandas as pd\n",
    "import numpy as np\n",
    "import matplotlib.pyplot as plt\n",
    "import seaborn as sns\n",
    "from scipy import stats\n",
    "from IPython.core.interactiveshell import InteractiveShell\n",
    "from sklearn.feature_selection import chi2"
   ]
  },
  {
   "cell_type": "code",
   "execution_count": 2,
   "id": "3a48ccb9",
   "metadata": {},
   "outputs": [],
   "source": [
    "df = pd.read_csv('heart-desease-clean.csv')"
   ]
  },
  {
   "cell_type": "code",
   "execution_count": 3,
   "id": "cfccb531",
   "metadata": {},
   "outputs": [
    {
     "data": {
      "text/html": [
       "<div>\n",
       "<style scoped>\n",
       "    .dataframe tbody tr th:only-of-type {\n",
       "        vertical-align: middle;\n",
       "    }\n",
       "\n",
       "    .dataframe tbody tr th {\n",
       "        vertical-align: top;\n",
       "    }\n",
       "\n",
       "    .dataframe thead th {\n",
       "        text-align: right;\n",
       "    }\n",
       "</style>\n",
       "<table border=\"1\" class=\"dataframe\">\n",
       "  <thead>\n",
       "    <tr style=\"text-align: right;\">\n",
       "      <th></th>\n",
       "      <th>Age</th>\n",
       "      <th>Sex</th>\n",
       "      <th>Cholesterol</th>\n",
       "      <th>FastingBS</th>\n",
       "      <th>HeartDisease</th>\n",
       "      <th>age_cat</th>\n",
       "      <th>chol_level</th>\n",
       "    </tr>\n",
       "  </thead>\n",
       "  <tbody>\n",
       "    <tr>\n",
       "      <th>0</th>\n",
       "      <td>40</td>\n",
       "      <td>1</td>\n",
       "      <td>289</td>\n",
       "      <td>0</td>\n",
       "      <td>0</td>\n",
       "      <td>Adulta</td>\n",
       "      <td>Alto</td>\n",
       "    </tr>\n",
       "    <tr>\n",
       "      <th>1</th>\n",
       "      <td>49</td>\n",
       "      <td>0</td>\n",
       "      <td>180</td>\n",
       "      <td>0</td>\n",
       "      <td>1</td>\n",
       "      <td>Adulta</td>\n",
       "      <td>Baixo</td>\n",
       "    </tr>\n",
       "    <tr>\n",
       "      <th>2</th>\n",
       "      <td>37</td>\n",
       "      <td>1</td>\n",
       "      <td>283</td>\n",
       "      <td>0</td>\n",
       "      <td>0</td>\n",
       "      <td>Adulta</td>\n",
       "      <td>Alto</td>\n",
       "    </tr>\n",
       "    <tr>\n",
       "      <th>3</th>\n",
       "      <td>48</td>\n",
       "      <td>0</td>\n",
       "      <td>214</td>\n",
       "      <td>0</td>\n",
       "      <td>1</td>\n",
       "      <td>Adulta</td>\n",
       "      <td>Baixo</td>\n",
       "    </tr>\n",
       "    <tr>\n",
       "      <th>4</th>\n",
       "      <td>54</td>\n",
       "      <td>1</td>\n",
       "      <td>195</td>\n",
       "      <td>0</td>\n",
       "      <td>0</td>\n",
       "      <td>Adulta</td>\n",
       "      <td>Baixo</td>\n",
       "    </tr>\n",
       "  </tbody>\n",
       "</table>\n",
       "</div>"
      ],
      "text/plain": [
       "   Age  Sex  Cholesterol  FastingBS  HeartDisease age_cat chol_level\n",
       "0   40    1          289          0             0  Adulta       Alto\n",
       "1   49    0          180          0             1  Adulta      Baixo\n",
       "2   37    1          283          0             0  Adulta       Alto\n",
       "3   48    0          214          0             1  Adulta      Baixo\n",
       "4   54    1          195          0             0  Adulta      Baixo"
      ]
     },
     "execution_count": 3,
     "metadata": {},
     "output_type": "execute_result"
    }
   ],
   "source": [
    "df.head()"
   ]
  },
  {
   "cell_type": "markdown",
   "id": "a2e9db56",
   "metadata": {},
   "source": [
    "Esse dataset é feito apenas de variáveis categóricas com próposito de encontra-se um perfil que relacione problemas cardiácos com colesterol."
   ]
  },
  {
   "cell_type": "code",
   "execution_count": 4,
   "id": "ac67d809",
   "metadata": {},
   "outputs": [],
   "source": [
    "df_dummy = pd.read_csv('heart-desease-dummy.csv')"
   ]
  },
  {
   "cell_type": "code",
   "execution_count": 5,
   "id": "4baead4d",
   "metadata": {},
   "outputs": [
    {
     "data": {
      "text/html": [
       "<div>\n",
       "<style scoped>\n",
       "    .dataframe tbody tr th:only-of-type {\n",
       "        vertical-align: middle;\n",
       "    }\n",
       "\n",
       "    .dataframe tbody tr th {\n",
       "        vertical-align: top;\n",
       "    }\n",
       "\n",
       "    .dataframe thead th {\n",
       "        text-align: right;\n",
       "    }\n",
       "</style>\n",
       "<table border=\"1\" class=\"dataframe\">\n",
       "  <thead>\n",
       "    <tr style=\"text-align: right;\">\n",
       "      <th></th>\n",
       "      <th>HeartDisease</th>\n",
       "      <th>low-chol</th>\n",
       "      <th>high-chol</th>\n",
       "      <th>Adulta</th>\n",
       "      <th>Idosa</th>\n",
       "      <th>mulher</th>\n",
       "      <th>homem</th>\n",
       "      <th>sem-diabetes</th>\n",
       "      <th>diabetes</th>\n",
       "    </tr>\n",
       "  </thead>\n",
       "  <tbody>\n",
       "    <tr>\n",
       "      <th>0</th>\n",
       "      <td>0</td>\n",
       "      <td>0</td>\n",
       "      <td>1</td>\n",
       "      <td>1</td>\n",
       "      <td>0</td>\n",
       "      <td>0</td>\n",
       "      <td>1</td>\n",
       "      <td>1</td>\n",
       "      <td>0</td>\n",
       "    </tr>\n",
       "    <tr>\n",
       "      <th>1</th>\n",
       "      <td>1</td>\n",
       "      <td>1</td>\n",
       "      <td>0</td>\n",
       "      <td>1</td>\n",
       "      <td>0</td>\n",
       "      <td>1</td>\n",
       "      <td>0</td>\n",
       "      <td>1</td>\n",
       "      <td>0</td>\n",
       "    </tr>\n",
       "    <tr>\n",
       "      <th>2</th>\n",
       "      <td>0</td>\n",
       "      <td>0</td>\n",
       "      <td>1</td>\n",
       "      <td>1</td>\n",
       "      <td>0</td>\n",
       "      <td>0</td>\n",
       "      <td>1</td>\n",
       "      <td>1</td>\n",
       "      <td>0</td>\n",
       "    </tr>\n",
       "    <tr>\n",
       "      <th>3</th>\n",
       "      <td>1</td>\n",
       "      <td>1</td>\n",
       "      <td>0</td>\n",
       "      <td>1</td>\n",
       "      <td>0</td>\n",
       "      <td>1</td>\n",
       "      <td>0</td>\n",
       "      <td>1</td>\n",
       "      <td>0</td>\n",
       "    </tr>\n",
       "    <tr>\n",
       "      <th>4</th>\n",
       "      <td>0</td>\n",
       "      <td>1</td>\n",
       "      <td>0</td>\n",
       "      <td>1</td>\n",
       "      <td>0</td>\n",
       "      <td>0</td>\n",
       "      <td>1</td>\n",
       "      <td>1</td>\n",
       "      <td>0</td>\n",
       "    </tr>\n",
       "  </tbody>\n",
       "</table>\n",
       "</div>"
      ],
      "text/plain": [
       "   HeartDisease  low-chol  high-chol  Adulta  Idosa  mulher  homem  \\\n",
       "0             0         0          1       1      0       0      1   \n",
       "1             1         1          0       1      0       1      0   \n",
       "2             0         0          1       1      0       0      1   \n",
       "3             1         1          0       1      0       1      0   \n",
       "4             0         1          0       1      0       0      1   \n",
       "\n",
       "   sem-diabetes  diabetes  \n",
       "0             1         0  \n",
       "1             1         0  \n",
       "2             1         0  \n",
       "3             1         0  \n",
       "4             1         0  "
      ]
     },
     "execution_count": 5,
     "metadata": {},
     "output_type": "execute_result"
    }
   ],
   "source": [
    "df_dummy.head()"
   ]
  },
  {
   "cell_type": "code",
   "execution_count": 162,
   "id": "2c21bbf4",
   "metadata": {},
   "outputs": [
    {
     "data": {
      "text/plain": [
       "(746, 7)"
      ]
     },
     "execution_count": 162,
     "metadata": {},
     "output_type": "execute_result"
    }
   ],
   "source": [
    "df.shape"
   ]
  },
  {
   "cell_type": "code",
   "execution_count": 6,
   "id": "02cd2ead",
   "metadata": {},
   "outputs": [],
   "source": [
    "dfChol = df_dummy.copy()"
   ]
  },
  {
   "cell_type": "code",
   "execution_count": 7,
   "id": "622c2fff",
   "metadata": {
    "scrolled": true
   },
   "outputs": [
    {
     "name": "stderr",
     "output_type": "stream",
     "text": [
      "C:\\Users\\tasso\\anaconda3\\lib\\site-packages\\seaborn\\_decorators.py:36: FutureWarning: Pass the following variable as a keyword arg: x. From version 0.12, the only valid positional argument will be `data`, and passing other arguments without an explicit keyword will result in an error or misinterpretation.\n",
      "  warnings.warn(\n"
     ]
    },
    {
     "data": {
      "image/png": "[encoded data removed]",
      "text/plain": [
       "<Figure size 1080x432 with 1 Axes>"
      ]
     },
     "metadata": {
      "needs_background": "light"
     },
     "output_type": "display_data"
    }
   ],
   "source": [
    "plt.figure(figsize=(15,6))\n",
    "sns.countplot(df['Age'])\n",
    "plt.grid(True, linestyle='-')\n",
    "plt.xlabel('Idades')\n",
    "plt.ylabel('Quantidade de Pacientes')\n",
    "plt.axvline(x = 32, color = 'r', label = 'axvline - full height')\n",
    "plt.show()"
   ]
  },
  {
   "cell_type": "markdown",
   "id": "a617e7cc",
   "metadata": {},
   "source": [
    "A figura acima mostra a distribuição da idade dos pacientes no dataset tendo a linha vermelha representando a divisão entre os adultos e idosos."
   ]
  },
  {
   "cell_type": "markdown",
   "id": "be4110df",
   "metadata": {},
   "source": [
    "### Distribuição dos Dados"
   ]
  },
  {
   "cell_type": "markdown",
   "id": "ed616f1d",
   "metadata": {},
   "source": [
    "Nesta seção apresentamos a distribuição das variáveis no dataset."
   ]
  },
  {
   "cell_type": "code",
   "execution_count": 8,
   "id": "54e8a755",
   "metadata": {},
   "outputs": [],
   "source": [
    "chol_lvl = df_dummy['high-chol'].apply(lambda x: 'Alto' if (x==1) else 'Baixo')\n",
    "diabetico = df_dummy['diabetes'].apply(lambda x: 'Diabético' if (x==1) else 'Não Diabético')\n",
    "sexo = df_dummy['homem'].apply(lambda x: 'Homem' if (x==1) else 'Mulher')\n",
    "idade = df_dummy['Adulta'].apply(lambda x: 'Adulto' if (x==1) else 'Idoso')\n",
    "cardiaco = df_dummy['HeartDisease'].apply(lambda x: 'Cardiaco' if (x==1) else 'Normal')"
   ]
  },
  {
   "cell_type": "code",
   "execution_count": 10,
   "id": "a5d73243",
   "metadata": {},
   "outputs": [
    {
     "name": "stderr",
     "output_type": "stream",
     "text": [
      "C:\\Users\\tasso\\anaconda3\\lib\\site-packages\\seaborn\\_decorators.py:36: FutureWarning: Pass the following variable as a keyword arg: x. From version 0.12, the only valid positional argument will be `data`, and passing other arguments without an explicit keyword will result in an error or misinterpretation.\n",
      "  warnings.warn(\n",
      "C:\\Users\\tasso\\anaconda3\\lib\\site-packages\\seaborn\\_decorators.py:36: FutureWarning: Pass the following variable as a keyword arg: x. From version 0.12, the only valid positional argument will be `data`, and passing other arguments without an explicit keyword will result in an error or misinterpretation.\n",
      "  warnings.warn(\n",
      "C:\\Users\\tasso\\anaconda3\\lib\\site-packages\\seaborn\\_decorators.py:36: FutureWarning: Pass the following variable as a keyword arg: x. From version 0.12, the only valid positional argument will be `data`, and passing other arguments without an explicit keyword will result in an error or misinterpretation.\n",
      "  warnings.warn(\n",
      "C:\\Users\\tasso\\anaconda3\\lib\\site-packages\\seaborn\\_decorators.py:36: FutureWarning: Pass the following variable as a keyword arg: x. From version 0.12, the only valid positional argument will be `data`, and passing other arguments without an explicit keyword will result in an error or misinterpretation.\n",
      "  warnings.warn(\n"
     ]
    },
    {
     "data": {
      "image/png": "[encoded data removed]",
      "text/plain": [
       "<Figure size 1080x720 with 4 Axes>"
      ]
     },
     "metadata": {},
     "output_type": "display_data"
    }
   ],
   "source": [
    "plt.figure(figsize=(15,10))\n",
    "\n",
    "plt.subplot(2,2,1)\n",
    "sns.countplot(chol_lvl,hue = cardiaco)\n",
    "plt.grid(True, linestyle='--')\n",
    "plt.xlabel('Colesterol')\n",
    "plt.ylabel('Quantidade de Pacientes')\n",
    "\n",
    "plt.subplot(2,2,2)\n",
    "sns.countplot(diabetico,hue = cardiaco)\n",
    "plt.grid(True, linestyle='--')\n",
    "plt.xlabel('Diabetes')\n",
    "plt.ylabel('Quantidade de Pacientes')\n",
    "\n",
    "plt.subplot(2,2,3)\n",
    "sns.countplot(sexo,hue = cardiaco)\n",
    "plt.grid(True, linestyle='--')\n",
    "plt.xlabel('Sexo')\n",
    "plt.ylabel('Quantidade de Pacientes')\n",
    "\n",
    "plt.subplot(2,2,4)\n",
    "sns.countplot(idade,hue = cardiaco)\n",
    "plt.grid(True, linestyle='--')\n",
    "plt.xlabel('Faixa Hetária')\n",
    "plt.ylabel('Quantidade de Pacientes')\n",
    "\n",
    "sns.set_theme(style=\"darkgrid\")\n",
    "\n",
    "plt.show()"
   ]
  },
  {
   "cell_type": "code",
   "execution_count": 11,
   "id": "64953b7d",
   "metadata": {},
   "outputs": [
    {
     "name": "stderr",
     "output_type": "stream",
     "text": [
      "C:\\Users\\tasso\\anaconda3\\lib\\site-packages\\seaborn\\_decorators.py:36: FutureWarning: Pass the following variable as a keyword arg: x. From version 0.12, the only valid positional argument will be `data`, and passing other arguments without an explicit keyword will result in an error or misinterpretation.\n",
      "  warnings.warn(\n"
     ]
    },
    {
     "data": {
      "image/png": "[encoded data removed]",
      "text/plain": [
       "<Figure size 504x360 with 1 Axes>"
      ]
     },
     "metadata": {},
     "output_type": "display_data"
    }
   ],
   "source": [
    "plt.figure(figsize=(7,5))\n",
    "\n",
    "sns.countplot(cardiaco)\n",
    "plt.grid(True, linestyle='--')\n",
    "plt.xlabel('Cardiopatia')\n",
    "plt.ylabel('Quantidade de Pacientes')\n",
    "\n",
    "sns.set_theme(style=\"darkgrid\")\n",
    "\n",
    "plt.show()"
   ]
  },
  {
   "cell_type": "markdown",
   "id": "1a356d94",
   "metadata": {},
   "source": [
    "### Teste Qui-Quadrado\n",
    "\n",
    "Nesta seção utilizamos o teste qui-quadrado para verifica se existe uma dependência entre os perfis definidos apartir do dataset das variáveis dummy `df_dummy`."
   ]
  },
  {
   "cell_type": "code",
   "execution_count": 168,
   "id": "41f7300d",
   "metadata": {},
   "outputs": [],
   "source": [
    "def chi2_result(X,y):\n",
    "    # Calculando Chi-Squared\n",
    "    chi_scores = chi2(X,y)\n",
    "    \n",
    "    # Colocando label nos resultados para posterior plot\n",
    "    scores = pd.Series(chi_scores[0], index=X.columns)\n",
    "    pvalues = pd.Series(chi_scores[1], index=X.columns)\n",
    "    \n",
    "    # Resultados\n",
    "    return pd.DataFrame({'Chi2':scores, 'p-Value':pvalues})"
   ]
  },
  {
   "cell_type": "code",
   "execution_count": 171,
   "id": "1cbc4ce4",
   "metadata": {},
   "outputs": [],
   "source": [
    "# Dividindo dataset\n",
    "X = df_dummy.drop(['HeartDisease'], axis=1)\n",
    "y = df_dummy.HeartDisease"
   ]
  },
  {
   "cell_type": "code",
   "execution_count": 172,
   "id": "2bbc21e3",
   "metadata": {},
   "outputs": [
    {
     "data": {
      "text/html": [
       "<div>\n",
       "<style scoped>\n",
       "    .dataframe tbody tr th:only-of-type {\n",
       "        vertical-align: middle;\n",
       "    }\n",
       "\n",
       "    .dataframe tbody tr th {\n",
       "        vertical-align: top;\n",
       "    }\n",
       "\n",
       "    .dataframe thead th {\n",
       "        text-align: right;\n",
       "    }\n",
       "</style>\n",
       "<table border=\"1\" class=\"dataframe\">\n",
       "  <thead>\n",
       "    <tr style=\"text-align: right;\">\n",
       "      <th></th>\n",
       "      <th>Chi2</th>\n",
       "      <th>p-Value</th>\n",
       "    </tr>\n",
       "  </thead>\n",
       "  <tbody>\n",
       "    <tr>\n",
       "      <th>low-chol</th>\n",
       "      <td>4.778417</td>\n",
       "      <td>2.881860e-02</td>\n",
       "    </tr>\n",
       "    <tr>\n",
       "      <th>high-chol</th>\n",
       "      <td>5.262989</td>\n",
       "      <td>2.178358e-02</td>\n",
       "    </tr>\n",
       "    <tr>\n",
       "      <th>Adulta</th>\n",
       "      <td>10.342250</td>\n",
       "      <td>1.300194e-03</td>\n",
       "    </tr>\n",
       "    <tr>\n",
       "      <th>Idosa</th>\n",
       "      <td>30.494645</td>\n",
       "      <td>3.347893e-08</td>\n",
       "    </tr>\n",
       "    <tr>\n",
       "      <th>mulher</th>\n",
       "      <td>48.345724</td>\n",
       "      <td>3.573225e-12</td>\n",
       "    </tr>\n",
       "    <tr>\n",
       "      <th>homem</th>\n",
       "      <td>15.600925</td>\n",
       "      <td>7.821631e-05</td>\n",
       "    </tr>\n",
       "    <tr>\n",
       "      <th>sem-diabetes</th>\n",
       "      <td>3.223808</td>\n",
       "      <td>7.257461e-02</td>\n",
       "    </tr>\n",
       "    <tr>\n",
       "      <th>diabetes</th>\n",
       "      <td>16.015879</td>\n",
       "      <td>6.281344e-05</td>\n",
       "    </tr>\n",
       "  </tbody>\n",
       "</table>\n",
       "</div>"
      ],
      "text/plain": [
       "                   Chi2       p-Value\n",
       "low-chol       4.778417  2.881860e-02\n",
       "high-chol      5.262989  2.178358e-02\n",
       "Adulta        10.342250  1.300194e-03\n",
       "Idosa         30.494645  3.347893e-08\n",
       "mulher        48.345724  3.573225e-12\n",
       "homem         15.600925  7.821631e-05\n",
       "sem-diabetes   3.223808  7.257461e-02\n",
       "diabetes      16.015879  6.281344e-05"
      ]
     },
     "execution_count": 172,
     "metadata": {},
     "output_type": "execute_result"
    }
   ],
   "source": [
    "chi2_result(X,y)"
   ]
  },
  {
   "cell_type": "code",
   "execution_count": 173,
   "id": "15abb87e",
   "metadata": {},
   "outputs": [],
   "source": [
    "perfis = pd.DataFrame()"
   ]
  },
  {
   "cell_type": "code",
   "execution_count": 174,
   "id": "e488d2a4",
   "metadata": {},
   "outputs": [],
   "source": [
    "# Homens\n",
    "perfis['Perfil_M'] = np.where(homem & high_chol, 1, 0)\n",
    "perfis['Perfil_MA'] = np.where(homem & adulta & high_chol, 1, 0)\n",
    "perfis['Perfil_MI'] = np.where(homem & idosa & high_chol, 1, 0)\n",
    "perfis['Perfil_MAD'] = np.where(homem & adulta & diabetes & high_chol, 1, 0)\n",
    "perfis['Perfil_MID'] = np.where(homem & idosa & diabetes & high_chol, 1, 0)\n",
    "perfis['Perfil_MAN'] = np.where(homem & adulta & n_diabetes & high_chol, 1, 0)\n",
    "perfis['Perfil_MIN'] = np.where(homem & idosa & n_diabetes & high_chol, 1, 0)"
   ]
  },
  {
   "cell_type": "code",
   "execution_count": 175,
   "id": "f6b70dcc",
   "metadata": {},
   "outputs": [],
   "source": [
    "# Mulher\n",
    "perfis['Perfil_F'] = np.where(mulher & high_chol, 1, 0)\n",
    "perfis['Perfil_FA'] = np.where(mulher & adulta & high_chol, 1, 0)\n",
    "perfis['Perfil_FI'] = np.where(mulher & idosa & high_chol, 1, 0)\n",
    "perfis['Perfil_FAD'] = np.where(mulher & adulta & diabetes & high_chol, 1, 0)\n",
    "perfis['Perfil_FID'] = np.where(mulher & idosa & diabetes & high_chol, 1, 0)\n",
    "perfis['Perfil_FAN'] = np.where(mulher & adulta & n_diabetes & high_chol, 1, 0)\n",
    "perfis['Perfil_FIN'] = np.where(mulher & idosa & n_diabetes & high_chol, 1, 0)"
   ]
  },
  {
   "cell_type": "code",
   "execution_count": 176,
   "id": "3a2043da",
   "metadata": {},
   "outputs": [],
   "source": [
    "perfis['Perfil_A'] = np.where(adulta & high_chol, 1, 0)\n",
    "perfis['Perfil_I'] = np.where(idosa & high_chol, 1, 0)\n",
    "perfis['Perfil_D'] = np.where(diabetes & high_chol, 1, 0)\n",
    "perfis['Perfil_N'] = np.where(n_diabetes & high_chol, 1, 0)"
   ]
  },
  {
   "cell_type": "code",
   "execution_count": 177,
   "id": "25b4cdc7",
   "metadata": {},
   "outputs": [
    {
     "data": {
      "text/html": [
       "<div>\n",
       "<style scoped>\n",
       "    .dataframe tbody tr th:only-of-type {\n",
       "        vertical-align: middle;\n",
       "    }\n",
       "\n",
       "    .dataframe tbody tr th {\n",
       "        vertical-align: top;\n",
       "    }\n",
       "\n",
       "    .dataframe thead th {\n",
       "        text-align: right;\n",
       "    }\n",
       "</style>\n",
       "<table border=\"1\" class=\"dataframe\">\n",
       "  <thead>\n",
       "    <tr style=\"text-align: right;\">\n",
       "      <th></th>\n",
       "      <th>Perfil_M</th>\n",
       "      <th>Perfil_MA</th>\n",
       "      <th>Perfil_MI</th>\n",
       "      <th>Perfil_MAD</th>\n",
       "      <th>Perfil_MID</th>\n",
       "      <th>Perfil_MAN</th>\n",
       "      <th>Perfil_MIN</th>\n",
       "      <th>Perfil_F</th>\n",
       "      <th>Perfil_FA</th>\n",
       "      <th>Perfil_FI</th>\n",
       "      <th>Perfil_FAD</th>\n",
       "      <th>Perfil_FID</th>\n",
       "      <th>Perfil_FAN</th>\n",
       "      <th>Perfil_FIN</th>\n",
       "      <th>Perfil_A</th>\n",
       "      <th>Perfil_I</th>\n",
       "      <th>Perfil_D</th>\n",
       "      <th>Perfil_N</th>\n",
       "    </tr>\n",
       "  </thead>\n",
       "  <tbody>\n",
       "    <tr>\n",
       "      <th>0</th>\n",
       "      <td>1</td>\n",
       "      <td>1</td>\n",
       "      <td>0</td>\n",
       "      <td>0</td>\n",
       "      <td>0</td>\n",
       "      <td>1</td>\n",
       "      <td>0</td>\n",
       "      <td>0</td>\n",
       "      <td>0</td>\n",
       "      <td>0</td>\n",
       "      <td>0</td>\n",
       "      <td>0</td>\n",
       "      <td>0</td>\n",
       "      <td>0</td>\n",
       "      <td>1</td>\n",
       "      <td>0</td>\n",
       "      <td>0</td>\n",
       "      <td>1</td>\n",
       "    </tr>\n",
       "    <tr>\n",
       "      <th>1</th>\n",
       "      <td>0</td>\n",
       "      <td>0</td>\n",
       "      <td>0</td>\n",
       "      <td>0</td>\n",
       "      <td>0</td>\n",
       "      <td>0</td>\n",
       "      <td>0</td>\n",
       "      <td>0</td>\n",
       "      <td>0</td>\n",
       "      <td>0</td>\n",
       "      <td>0</td>\n",
       "      <td>0</td>\n",
       "      <td>0</td>\n",
       "      <td>0</td>\n",
       "      <td>0</td>\n",
       "      <td>0</td>\n",
       "      <td>0</td>\n",
       "      <td>0</td>\n",
       "    </tr>\n",
       "    <tr>\n",
       "      <th>2</th>\n",
       "      <td>1</td>\n",
       "      <td>1</td>\n",
       "      <td>0</td>\n",
       "      <td>0</td>\n",
       "      <td>0</td>\n",
       "      <td>1</td>\n",
       "      <td>0</td>\n",
       "      <td>0</td>\n",
       "      <td>0</td>\n",
       "      <td>0</td>\n",
       "      <td>0</td>\n",
       "      <td>0</td>\n",
       "      <td>0</td>\n",
       "      <td>0</td>\n",
       "      <td>1</td>\n",
       "      <td>0</td>\n",
       "      <td>0</td>\n",
       "      <td>1</td>\n",
       "    </tr>\n",
       "    <tr>\n",
       "      <th>3</th>\n",
       "      <td>0</td>\n",
       "      <td>0</td>\n",
       "      <td>0</td>\n",
       "      <td>0</td>\n",
       "      <td>0</td>\n",
       "      <td>0</td>\n",
       "      <td>0</td>\n",
       "      <td>0</td>\n",
       "      <td>0</td>\n",
       "      <td>0</td>\n",
       "      <td>0</td>\n",
       "      <td>0</td>\n",
       "      <td>0</td>\n",
       "      <td>0</td>\n",
       "      <td>0</td>\n",
       "      <td>0</td>\n",
       "      <td>0</td>\n",
       "      <td>0</td>\n",
       "    </tr>\n",
       "    <tr>\n",
       "      <th>4</th>\n",
       "      <td>0</td>\n",
       "      <td>0</td>\n",
       "      <td>0</td>\n",
       "      <td>0</td>\n",
       "      <td>0</td>\n",
       "      <td>0</td>\n",
       "      <td>0</td>\n",
       "      <td>0</td>\n",
       "      <td>0</td>\n",
       "      <td>0</td>\n",
       "      <td>0</td>\n",
       "      <td>0</td>\n",
       "      <td>0</td>\n",
       "      <td>0</td>\n",
       "      <td>0</td>\n",
       "      <td>0</td>\n",
       "      <td>0</td>\n",
       "      <td>0</td>\n",
       "    </tr>\n",
       "  </tbody>\n",
       "</table>\n",
       "</div>"
      ],
      "text/plain": [
       "   Perfil_M  Perfil_MA  Perfil_MI  Perfil_MAD  Perfil_MID  Perfil_MAN  \\\n",
       "0         1          1          0           0           0           1   \n",
       "1         0          0          0           0           0           0   \n",
       "2         1          1          0           0           0           1   \n",
       "3         0          0          0           0           0           0   \n",
       "4         0          0          0           0           0           0   \n",
       "\n",
       "   Perfil_MIN  Perfil_F  Perfil_FA  Perfil_FI  Perfil_FAD  Perfil_FID  \\\n",
       "0           0         0          0          0           0           0   \n",
       "1           0         0          0          0           0           0   \n",
       "2           0         0          0          0           0           0   \n",
       "3           0         0          0          0           0           0   \n",
       "4           0         0          0          0           0           0   \n",
       "\n",
       "   Perfil_FAN  Perfil_FIN  Perfil_A  Perfil_I  Perfil_D  Perfil_N  \n",
       "0           0           0         1         0         0         1  \n",
       "1           0           0         0         0         0         0  \n",
       "2           0           0         1         0         0         1  \n",
       "3           0           0         0         0         0         0  \n",
       "4           0           0         0         0         0         0  "
      ]
     },
     "execution_count": 177,
     "metadata": {},
     "output_type": "execute_result"
    }
   ],
   "source": [
    "perfis.head()"
   ]
  },
  {
   "cell_type": "code",
   "execution_count": 178,
   "id": "4d106ff9",
   "metadata": {},
   "outputs": [],
   "source": [
    "X = perfis\n",
    "y = df.HeartDisease"
   ]
  },
  {
   "cell_type": "code",
   "execution_count": 67,
   "id": "44297c60",
   "metadata": {},
   "outputs": [
    {
     "data": {
      "text/plain": [
       "0    719\n",
       "1     27\n",
       "Name: perfil-had, dtype: int64"
      ]
     },
     "execution_count": 67,
     "metadata": {},
     "output_type": "execute_result"
    }
   ],
   "source": [
    "perfis['perfil-had'].value_counts()"
   ]
  },
  {
   "cell_type": "code",
   "execution_count": 179,
   "id": "6658cf42",
   "metadata": {},
   "outputs": [
    {
     "data": {
      "text/html": [
       "<div>\n",
       "<style scoped>\n",
       "    .dataframe tbody tr th:only-of-type {\n",
       "        vertical-align: middle;\n",
       "    }\n",
       "\n",
       "    .dataframe tbody tr th {\n",
       "        vertical-align: top;\n",
       "    }\n",
       "\n",
       "    .dataframe thead th {\n",
       "        text-align: right;\n",
       "    }\n",
       "</style>\n",
       "<table border=\"1\" class=\"dataframe\">\n",
       "  <thead>\n",
       "    <tr style=\"text-align: right;\">\n",
       "      <th></th>\n",
       "      <th>Chi2</th>\n",
       "      <th>p-Value</th>\n",
       "    </tr>\n",
       "  </thead>\n",
       "  <tbody>\n",
       "    <tr>\n",
       "      <th>Perfil_M</th>\n",
       "      <td>21.011344</td>\n",
       "      <td>4.565720e-06</td>\n",
       "    </tr>\n",
       "    <tr>\n",
       "      <th>Perfil_MA</th>\n",
       "      <td>3.324358</td>\n",
       "      <td>6.826065e-02</td>\n",
       "    </tr>\n",
       "    <tr>\n",
       "      <th>Perfil_MI</th>\n",
       "      <td>32.690467</td>\n",
       "      <td>1.080659e-08</td>\n",
       "    </tr>\n",
       "    <tr>\n",
       "      <th>Perfil_MAD</th>\n",
       "      <td>7.515943</td>\n",
       "      <td>6.115527e-03</td>\n",
       "    </tr>\n",
       "    <tr>\n",
       "      <th>Perfil_MID</th>\n",
       "      <td>13.276442</td>\n",
       "      <td>2.687620e-04</td>\n",
       "    </tr>\n",
       "    <tr>\n",
       "      <th>Perfil_MAN</th>\n",
       "      <td>0.634755</td>\n",
       "      <td>4.256165e-01</td>\n",
       "    </tr>\n",
       "    <tr>\n",
       "      <th>Perfil_MIN</th>\n",
       "      <td>19.949920</td>\n",
       "      <td>7.949727e-06</td>\n",
       "    </tr>\n",
       "    <tr>\n",
       "      <th>Perfil_F</th>\n",
       "      <td>11.652771</td>\n",
       "      <td>6.410697e-04</td>\n",
       "    </tr>\n",
       "    <tr>\n",
       "      <th>Perfil_FA</th>\n",
       "      <td>13.909715</td>\n",
       "      <td>1.918045e-04</td>\n",
       "    </tr>\n",
       "    <tr>\n",
       "      <th>Perfil_FI</th>\n",
       "      <td>0.165966</td>\n",
       "      <td>6.837217e-01</td>\n",
       "    </tr>\n",
       "    <tr>\n",
       "      <th>Perfil_FAD</th>\n",
       "      <td>0.604333</td>\n",
       "      <td>4.369295e-01</td>\n",
       "    </tr>\n",
       "    <tr>\n",
       "      <th>Perfil_FID</th>\n",
       "      <td>0.248929</td>\n",
       "      <td>6.178301e-01</td>\n",
       "    </tr>\n",
       "    <tr>\n",
       "      <th>Perfil_FAN</th>\n",
       "      <td>19.236584</td>\n",
       "      <td>1.154791e-05</td>\n",
       "    </tr>\n",
       "    <tr>\n",
       "      <th>Perfil_FIN</th>\n",
       "      <td>0.059362</td>\n",
       "      <td>8.075074e-01</td>\n",
       "    </tr>\n",
       "    <tr>\n",
       "      <th>Perfil_A</th>\n",
       "      <td>0.168684</td>\n",
       "      <td>6.812842e-01</td>\n",
       "    </tr>\n",
       "    <tr>\n",
       "      <th>Perfil_I</th>\n",
       "      <td>22.445443</td>\n",
       "      <td>2.161978e-06</td>\n",
       "    </tr>\n",
       "    <tr>\n",
       "      <th>Perfil_D</th>\n",
       "      <td>15.776349</td>\n",
       "      <td>7.128812e-05</td>\n",
       "    </tr>\n",
       "    <tr>\n",
       "      <th>Perfil_N</th>\n",
       "      <td>0.252306</td>\n",
       "      <td>6.154558e-01</td>\n",
       "    </tr>\n",
       "  </tbody>\n",
       "</table>\n",
       "</div>"
      ],
      "text/plain": [
       "                 Chi2       p-Value\n",
       "Perfil_M    21.011344  4.565720e-06\n",
       "Perfil_MA    3.324358  6.826065e-02\n",
       "Perfil_MI   32.690467  1.080659e-08\n",
       "Perfil_MAD   7.515943  6.115527e-03\n",
       "Perfil_MID  13.276442  2.687620e-04\n",
       "Perfil_MAN   0.634755  4.256165e-01\n",
       "Perfil_MIN  19.949920  7.949727e-06\n",
       "Perfil_F    11.652771  6.410697e-04\n",
       "Perfil_FA   13.909715  1.918045e-04\n",
       "Perfil_FI    0.165966  6.837217e-01\n",
       "Perfil_FAD   0.604333  4.369295e-01\n",
       "Perfil_FID   0.248929  6.178301e-01\n",
       "Perfil_FAN  19.236584  1.154791e-05\n",
       "Perfil_FIN   0.059362  8.075074e-01\n",
       "Perfil_A     0.168684  6.812842e-01\n",
       "Perfil_I    22.445443  2.161978e-06\n",
       "Perfil_D    15.776349  7.128812e-05\n",
       "Perfil_N     0.252306  6.154558e-01"
      ]
     },
     "execution_count": 179,
     "metadata": {},
     "output_type": "execute_result"
    }
   ],
   "source": [
    "chi2_result(X,y)"
   ]
  },
  {
   "cell_type": "code",
   "execution_count": 182,
   "id": "5643eff8",
   "metadata": {},
   "outputs": [],
   "source": [
    "final = chi2_result(X,y).sort_values('Chi2', ascending=False)"
   ]
  },
  {
   "cell_type": "code",
   "execution_count": 183,
   "id": "ead22caf",
   "metadata": {
    "scrolled": true
   },
   "outputs": [
    {
     "data": {
      "image/png": "[encoded data removed]",
      "text/plain": [
       "<Figure size 576x576 with 2 Axes>"
      ]
     },
     "metadata": {
      "needs_background": "light"
     },
     "output_type": "display_data"
    }
   ],
   "source": [
    "# Mapa de calor com os resultados do chi-quadrado\n",
    "fig = plt.figure(figsize=(8,8))\n",
    "sns.heatmap(final, annot=True, cmap='Blues')\n",
    "plt.title('Resultados do Teste Chi-Quadrado')\n",
    "plt.show()"
   ]
  },
  {
   "cell_type": "code",
   "execution_count": 195,
   "id": "9ff483bf",
   "metadata": {},
   "outputs": [],
   "source": [
    "hom_ido = (df['Sex'] == 1) & (df['age_cat'] == 'Idosa')\n",
    "hom_ido_col = (df['Sex'] == 1) & (df['age_cat'] == 'Idosa') & (df['chol_level'] == 'Alto')"
   ]
  },
  {
   "cell_type": "code",
   "execution_count": 203,
   "id": "73da408c",
   "metadata": {},
   "outputs": [
    {
     "name": "stdout",
     "output_type": "stream",
     "text": [
      "Porcentagem de homem idosos com colesterol alto, em relação aos homens idosos: 52.63%\n"
     ]
    }
   ],
   "source": [
    "porcentagem = len(df[hom_ido_col])/len(df[hom_ido])\n",
    "print(\"Porcentagem de homem idosos com colesterol alto, em relação aos homens idosos: {:.2f}%\".format(100*porcentagem))"
   ]
  },
  {
   "cell_type": "code",
   "execution_count": 202,
   "id": "6fabcdd7",
   "metadata": {},
   "outputs": [
    {
     "name": "stdout",
     "output_type": "stream",
     "text": [
      "quantidade de homens idosos com colesterol alto: 70\n"
     ]
    }
   ],
   "source": [
    "print(f\"quantidade de homens idosos com colesterol alto: {hom_ido_col.value_counts()[1]}\")"
   ]
  },
  {
   "cell_type": "code",
   "execution_count": null,
   "id": "93249b32",
   "metadata": {},
   "outputs": [],
   "source": []
  }
 ],
 "metadata": {
  "kernelspec": {
   "display_name": "Python 3",
   "language": "python",
   "name": "python3"
  },
  "language_info": {
   "codemirror_mode": {
    "name": "ipython",
    "version": 3
   },
   "file_extension": ".py",
   "mimetype": "text/x-python",
   "name": "python",
   "nbconvert_exporter": "python",
   "pygments_lexer": "ipython3",
   "version": "3.8.8"
  }
 },
 "nbformat": 4,
 "nbformat_minor": 5
}
